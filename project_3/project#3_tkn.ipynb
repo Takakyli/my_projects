{
 "cells": [
  {
   "cell_type": "markdown",
   "metadata": {},
   "source": [
    "**1. Общая информация**"
   ]
  },
  {
   "cell_type": "code",
   "execution_count": 1,
   "metadata": {},
   "outputs": [],
   "source": [
    "import pandas as pd\n",
    "import numpy as np\n",
    "import matplotlib.pyplot as plt\n",
    "import warnings\n",
    "warnings.filterwarnings('ignore')"
   ]
  },
  {
   "cell_type": "code",
   "execution_count": 2,
   "metadata": {},
   "outputs": [],
   "source": [
    "users = pd.read_csv('/datasets/users.csv')\n",
    "calls = pd.read_csv('/datasets/calls.csv')\n",
    "messages = pd.read_csv('/datasets/messages.csv')\n",
    "internet = pd.read_csv('/datasets/internet.csv')\n",
    "tariffs = pd.read_csv('/datasets/tariffs.csv')"
   ]
  },
  {
   "cell_type": "markdown",
   "metadata": {},
   "source": [
    "**1.1 Начнем анализ с  таблицы 'users'**"
   ]
  },
  {
   "cell_type": "code",
   "execution_count": 3,
   "metadata": {},
   "outputs": [
    {
     "data": {
      "text/html": [
       "<div>\n",
       "<style scoped>\n",
       "    .dataframe tbody tr th:only-of-type {\n",
       "        vertical-align: middle;\n",
       "    }\n",
       "\n",
       "    .dataframe tbody tr th {\n",
       "        vertical-align: top;\n",
       "    }\n",
       "\n",
       "    .dataframe thead th {\n",
       "        text-align: right;\n",
       "    }\n",
       "</style>\n",
       "<table border=\"1\" class=\"dataframe\">\n",
       "  <thead>\n",
       "    <tr style=\"text-align: right;\">\n",
       "      <th></th>\n",
       "      <th>user_id</th>\n",
       "      <th>age</th>\n",
       "      <th>churn_date</th>\n",
       "      <th>city</th>\n",
       "      <th>first_name</th>\n",
       "      <th>last_name</th>\n",
       "      <th>reg_date</th>\n",
       "      <th>tariff</th>\n",
       "    </tr>\n",
       "  </thead>\n",
       "  <tbody>\n",
       "    <tr>\n",
       "      <td>0</td>\n",
       "      <td>1000</td>\n",
       "      <td>52</td>\n",
       "      <td>NaN</td>\n",
       "      <td>Краснодар</td>\n",
       "      <td>Рафаил</td>\n",
       "      <td>Верещагин</td>\n",
       "      <td>2018-05-25</td>\n",
       "      <td>ultra</td>\n",
       "    </tr>\n",
       "    <tr>\n",
       "      <td>1</td>\n",
       "      <td>1001</td>\n",
       "      <td>41</td>\n",
       "      <td>NaN</td>\n",
       "      <td>Москва</td>\n",
       "      <td>Иван</td>\n",
       "      <td>Ежов</td>\n",
       "      <td>2018-11-01</td>\n",
       "      <td>smart</td>\n",
       "    </tr>\n",
       "    <tr>\n",
       "      <td>2</td>\n",
       "      <td>1002</td>\n",
       "      <td>59</td>\n",
       "      <td>NaN</td>\n",
       "      <td>Стерлитамак</td>\n",
       "      <td>Евгений</td>\n",
       "      <td>Абрамович</td>\n",
       "      <td>2018-06-17</td>\n",
       "      <td>smart</td>\n",
       "    </tr>\n",
       "    <tr>\n",
       "      <td>3</td>\n",
       "      <td>1003</td>\n",
       "      <td>23</td>\n",
       "      <td>NaN</td>\n",
       "      <td>Москва</td>\n",
       "      <td>Белла</td>\n",
       "      <td>Белякова</td>\n",
       "      <td>2018-08-17</td>\n",
       "      <td>ultra</td>\n",
       "    </tr>\n",
       "    <tr>\n",
       "      <td>4</td>\n",
       "      <td>1004</td>\n",
       "      <td>68</td>\n",
       "      <td>NaN</td>\n",
       "      <td>Новокузнецк</td>\n",
       "      <td>Татьяна</td>\n",
       "      <td>Авдеенко</td>\n",
       "      <td>2018-05-14</td>\n",
       "      <td>ultra</td>\n",
       "    </tr>\n",
       "    <tr>\n",
       "      <td>5</td>\n",
       "      <td>1005</td>\n",
       "      <td>67</td>\n",
       "      <td>NaN</td>\n",
       "      <td>Набережные Челны</td>\n",
       "      <td>Афанасий</td>\n",
       "      <td>Горлов</td>\n",
       "      <td>2018-01-25</td>\n",
       "      <td>smart</td>\n",
       "    </tr>\n",
       "    <tr>\n",
       "      <td>6</td>\n",
       "      <td>1006</td>\n",
       "      <td>21</td>\n",
       "      <td>NaN</td>\n",
       "      <td>Ульяновск</td>\n",
       "      <td>Леонид</td>\n",
       "      <td>Ермолаев</td>\n",
       "      <td>2018-02-26</td>\n",
       "      <td>smart</td>\n",
       "    </tr>\n",
       "    <tr>\n",
       "      <td>7</td>\n",
       "      <td>1007</td>\n",
       "      <td>65</td>\n",
       "      <td>NaN</td>\n",
       "      <td>Москва</td>\n",
       "      <td>Юна</td>\n",
       "      <td>Березина</td>\n",
       "      <td>2018-04-19</td>\n",
       "      <td>smart</td>\n",
       "    </tr>\n",
       "    <tr>\n",
       "      <td>8</td>\n",
       "      <td>1008</td>\n",
       "      <td>63</td>\n",
       "      <td>NaN</td>\n",
       "      <td>Челябинск</td>\n",
       "      <td>Рустэм</td>\n",
       "      <td>Пономарёв</td>\n",
       "      <td>2018-12-19</td>\n",
       "      <td>smart</td>\n",
       "    </tr>\n",
       "    <tr>\n",
       "      <td>9</td>\n",
       "      <td>1009</td>\n",
       "      <td>24</td>\n",
       "      <td>NaN</td>\n",
       "      <td>Пермь</td>\n",
       "      <td>Василиса</td>\n",
       "      <td>Блинова</td>\n",
       "      <td>2018-03-22</td>\n",
       "      <td>smart</td>\n",
       "    </tr>\n",
       "  </tbody>\n",
       "</table>\n",
       "</div>"
      ],
      "text/plain": [
       "   user_id  age churn_date              city first_name  last_name  \\\n",
       "0     1000   52        NaN         Краснодар     Рафаил  Верещагин   \n",
       "1     1001   41        NaN            Москва       Иван       Ежов   \n",
       "2     1002   59        NaN       Стерлитамак    Евгений  Абрамович   \n",
       "3     1003   23        NaN            Москва      Белла   Белякова   \n",
       "4     1004   68        NaN       Новокузнецк    Татьяна   Авдеенко   \n",
       "5     1005   67        NaN  Набережные Челны   Афанасий     Горлов   \n",
       "6     1006   21        NaN         Ульяновск     Леонид   Ермолаев   \n",
       "7     1007   65        NaN            Москва        Юна   Березина   \n",
       "8     1008   63        NaN         Челябинск     Рустэм  Пономарёв   \n",
       "9     1009   24        NaN             Пермь   Василиса    Блинова   \n",
       "\n",
       "     reg_date tariff  \n",
       "0  2018-05-25  ultra  \n",
       "1  2018-11-01  smart  \n",
       "2  2018-06-17  smart  \n",
       "3  2018-08-17  ultra  \n",
       "4  2018-05-14  ultra  \n",
       "5  2018-01-25  smart  \n",
       "6  2018-02-26  smart  \n",
       "7  2018-04-19  smart  \n",
       "8  2018-12-19  smart  \n",
       "9  2018-03-22  smart  "
      ]
     },
     "execution_count": 3,
     "metadata": {},
     "output_type": "execute_result"
    }
   ],
   "source": [
    "users.head(10)"
   ]
  },
  {
   "cell_type": "markdown",
   "metadata": {},
   "source": [
    "В столбце **churn_date** на первый взгляд много пропусков. Проверим таблицу на дубликаты и пропуски"
   ]
  },
  {
   "cell_type": "code",
   "execution_count": 4,
   "metadata": {},
   "outputs": [
    {
     "name": "stdout",
     "output_type": "stream",
     "text": [
      "Число дубликатов в таблице users: 0\n"
     ]
    }
   ],
   "source": [
    "print(\"Число дубликатов в таблице users:\", users.duplicated().sum())"
   ]
  },
  {
   "cell_type": "code",
   "execution_count": 5,
   "metadata": {},
   "outputs": [
    {
     "name": "stdout",
     "output_type": "stream",
     "text": [
      "Число пропусков в таблице users: user_id         0\n",
      "age             0\n",
      "churn_date    462\n",
      "city            0\n",
      "first_name      0\n",
      "last_name       0\n",
      "reg_date        0\n",
      "tariff          0\n",
      "dtype: int64\n"
     ]
    }
   ],
   "source": [
    "print(\"Число пропусков в таблице users:\", users.isnull().sum())"
   ]
  },
  {
   "cell_type": "markdown",
   "metadata": {},
   "source": [
    "**churn_date** - дата прекращения пользования тарифом. Оставляем так, как есть. Т.е. если значение пустое, значит клиент им еще ползьуется. Посмотрим на тип данных"
   ]
  },
  {
   "cell_type": "code",
   "execution_count": 6,
   "metadata": {},
   "outputs": [
    {
     "name": "stdout",
     "output_type": "stream",
     "text": [
      "<class 'pandas.core.frame.DataFrame'>\n",
      "RangeIndex: 500 entries, 0 to 499\n",
      "Data columns (total 8 columns):\n",
      "user_id       500 non-null int64\n",
      "age           500 non-null int64\n",
      "churn_date    38 non-null object\n",
      "city          500 non-null object\n",
      "first_name    500 non-null object\n",
      "last_name     500 non-null object\n",
      "reg_date      500 non-null object\n",
      "tariff        500 non-null object\n",
      "dtypes: int64(2), object(6)\n",
      "memory usage: 31.4+ KB\n"
     ]
    }
   ],
   "source": [
    "users.info()"
   ]
  },
  {
   "cell_type": "markdown",
   "metadata": {},
   "source": [
    "Очевидно, надо менять стоблец **reg_date** с object на datetime. Добавим столбцы с месяцем"
   ]
  },
  {
   "cell_type": "code",
   "execution_count": 7,
   "metadata": {},
   "outputs": [
    {
     "name": "stdout",
     "output_type": "stream",
     "text": [
      "<class 'pandas.core.frame.DataFrame'>\n",
      "RangeIndex: 500 entries, 0 to 499\n",
      "Data columns (total 9 columns):\n",
      "user_id       500 non-null int64\n",
      "age           500 non-null int64\n",
      "churn_date    38 non-null object\n",
      "city          500 non-null object\n",
      "first_name    500 non-null object\n",
      "last_name     500 non-null object\n",
      "reg_date      500 non-null datetime64[ns]\n",
      "tariff        500 non-null object\n",
      "month         500 non-null int64\n",
      "dtypes: datetime64[ns](1), int64(3), object(5)\n",
      "memory usage: 35.3+ KB\n"
     ]
    }
   ],
   "source": [
    "users['reg_date'] = pd.to_datetime(users['reg_date'], format='%Y-%m-%d')\n",
    "users['month'] = users['reg_date'].apply(lambda x: x.month)\n",
    "users.info() #посмотрим результат"
   ]
  },
  {
   "cell_type": "markdown",
   "metadata": {},
   "source": [
    "**1.2 Проанализируем таблицу 'calls'**"
   ]
  },
  {
   "cell_type": "code",
   "execution_count": 8,
   "metadata": {},
   "outputs": [
    {
     "data": {
      "text/html": [
       "<div>\n",
       "<style scoped>\n",
       "    .dataframe tbody tr th:only-of-type {\n",
       "        vertical-align: middle;\n",
       "    }\n",
       "\n",
       "    .dataframe tbody tr th {\n",
       "        vertical-align: top;\n",
       "    }\n",
       "\n",
       "    .dataframe thead th {\n",
       "        text-align: right;\n",
       "    }\n",
       "</style>\n",
       "<table border=\"1\" class=\"dataframe\">\n",
       "  <thead>\n",
       "    <tr style=\"text-align: right;\">\n",
       "      <th></th>\n",
       "      <th>id</th>\n",
       "      <th>call_date</th>\n",
       "      <th>duration</th>\n",
       "      <th>user_id</th>\n",
       "    </tr>\n",
       "  </thead>\n",
       "  <tbody>\n",
       "    <tr>\n",
       "      <td>0</td>\n",
       "      <td>1000_0</td>\n",
       "      <td>2018-07-25</td>\n",
       "      <td>0.00</td>\n",
       "      <td>1000</td>\n",
       "    </tr>\n",
       "    <tr>\n",
       "      <td>1</td>\n",
       "      <td>1000_1</td>\n",
       "      <td>2018-08-17</td>\n",
       "      <td>0.00</td>\n",
       "      <td>1000</td>\n",
       "    </tr>\n",
       "    <tr>\n",
       "      <td>2</td>\n",
       "      <td>1000_2</td>\n",
       "      <td>2018-06-11</td>\n",
       "      <td>2.85</td>\n",
       "      <td>1000</td>\n",
       "    </tr>\n",
       "    <tr>\n",
       "      <td>3</td>\n",
       "      <td>1000_3</td>\n",
       "      <td>2018-09-21</td>\n",
       "      <td>13.80</td>\n",
       "      <td>1000</td>\n",
       "    </tr>\n",
       "    <tr>\n",
       "      <td>4</td>\n",
       "      <td>1000_4</td>\n",
       "      <td>2018-12-15</td>\n",
       "      <td>5.18</td>\n",
       "      <td>1000</td>\n",
       "    </tr>\n",
       "  </tbody>\n",
       "</table>\n",
       "</div>"
      ],
      "text/plain": [
       "       id   call_date  duration  user_id\n",
       "0  1000_0  2018-07-25      0.00     1000\n",
       "1  1000_1  2018-08-17      0.00     1000\n",
       "2  1000_2  2018-06-11      2.85     1000\n",
       "3  1000_3  2018-09-21     13.80     1000\n",
       "4  1000_4  2018-12-15      5.18     1000"
      ]
     },
     "execution_count": 8,
     "metadata": {},
     "output_type": "execute_result"
    }
   ],
   "source": [
    "calls.head()"
   ]
  },
  {
   "cell_type": "code",
   "execution_count": 9,
   "metadata": {},
   "outputs": [
    {
     "name": "stdout",
     "output_type": "stream",
     "text": [
      "<class 'pandas.core.frame.DataFrame'>\n",
      "RangeIndex: 202607 entries, 0 to 202606\n",
      "Data columns (total 4 columns):\n",
      "id           202607 non-null object\n",
      "call_date    202607 non-null object\n",
      "duration     202607 non-null float64\n",
      "user_id      202607 non-null int64\n",
      "dtypes: float64(1), int64(1), object(2)\n",
      "memory usage: 6.2+ MB\n"
     ]
    }
   ],
   "source": [
    "calls.info()"
   ]
  },
  {
   "cell_type": "markdown",
   "metadata": {},
   "source": [
    "Пропусков нет, дату переведём в datetime и посмотрим на дубликаты:"
   ]
  },
  {
   "cell_type": "code",
   "execution_count": 10,
   "metadata": {},
   "outputs": [
    {
     "name": "stdout",
     "output_type": "stream",
     "text": [
      "Число дубликатов в таблице calls: 0\n"
     ]
    }
   ],
   "source": [
    "print(\"Число дубликатов в таблице calls:\", calls.duplicated().sum())"
   ]
  },
  {
   "cell_type": "code",
   "execution_count": 11,
   "metadata": {},
   "outputs": [
    {
     "name": "stdout",
     "output_type": "stream",
     "text": [
      "<class 'pandas.core.frame.DataFrame'>\n",
      "RangeIndex: 202607 entries, 0 to 202606\n",
      "Data columns (total 5 columns):\n",
      "id           202607 non-null object\n",
      "call_date    202607 non-null datetime64[ns]\n",
      "duration     202607 non-null float64\n",
      "user_id      202607 non-null int64\n",
      "month        202607 non-null int64\n",
      "dtypes: datetime64[ns](1), float64(1), int64(2), object(1)\n",
      "memory usage: 7.7+ MB\n"
     ]
    }
   ],
   "source": [
    "calls['call_date'] = pd.to_datetime(calls['call_date'], format='%Y-%m-%d')\n",
    "calls['month'] = calls['call_date'].apply(lambda x: x.month)\n",
    "calls.info() #проверим"
   ]
  },
  {
   "cell_type": "markdown",
   "metadata": {},
   "source": [
    "Оценим длительность звонков. Построим гистограмму распределения звонков по времени:"
   ]
  },
  {
   "cell_type": "code",
   "execution_count": 12,
   "metadata": {},
   "outputs": [
    {
     "data": {
      "image/png": "[encoded data removed]",
      "text/plain": [
       "<Figure size 720x360 with 1 Axes>"
      ]
     },
     "metadata": {
      "needs_background": "light"
     },
     "output_type": "display_data"
    }
   ],
   "source": [
    "fig, ax = plt.subplots()\n",
    "ax.set_title('calls duration, 2018')\n",
    "ax.set_xlabel('duration, mins')\n",
    "calls['duration'].plot(kind='hist', ec='black', bins = 50, range =(0,30), grid = False, figsize = (10,5), color ='seagreen');"
   ]
  },
  {
   "cell_type": "markdown",
   "metadata": {},
   "source": [
    "Очень много нулевых звонков. Уверен, это те звонки, где соединения не произошло.(Абонент вне доступа и тд.) К тому же «Мегалайн» всегда округляет вверх значения минут и мегабайтов. Если пользователь проговорил всего 1 секунду, в тарифе засчитывается целая минута. Есть смысл округлить все звонки до 1 минуты и откинуть нулевые звонки. Они никак не влияют на прибыль \"Мегалайна\" и на уменьшение счета клиента соответственно. Из гистограммы видно, что их число примрно 40000"
   ]
  },
  {
   "cell_type": "code",
   "execution_count": 13,
   "metadata": {},
   "outputs": [],
   "source": [
    "calls['duration'] = calls['duration'].apply(np.ceil)\n",
    "calls['duration'] = calls['duration'].replace(0, np.NaN)\n",
    "calls = calls.dropna()"
   ]
  },
  {
   "cell_type": "raw",
   "metadata": {},
   "source": [
    "Повторим гистограмму без нулей "
   ]
  },
  {
   "cell_type": "code",
   "execution_count": 14,
   "metadata": {},
   "outputs": [
    {
     "data": {
      "image/png": "[encoded data removed]",
      "text/plain": [
       "<Figure size 720x360 with 1 Axes>"
      ]
     },
     "metadata": {
      "needs_background": "light"
     },
     "output_type": "display_data"
    }
   ],
   "source": [
    "fig, ax = plt.subplots()\n",
    "ax.set_title('calls duration, 2018')\n",
    "ax.set_xlabel('duration, mins')\n",
    "calls['duration'].plot(kind='hist', ec='black', bins = 30, range =(0,30), grid = False, figsize = (10,5), color ='seagreen');"
   ]
  },
  {
   "cell_type": "markdown",
   "metadata": {},
   "source": [
    "**1.3 Проанализируем таблицу 'messages'**"
   ]
  },
  {
   "cell_type": "code",
   "execution_count": 15,
   "metadata": {},
   "outputs": [
    {
     "data": {
      "text/html": [
       "<div>\n",
       "<style scoped>\n",
       "    .dataframe tbody tr th:only-of-type {\n",
       "        vertical-align: middle;\n",
       "    }\n",
       "\n",
       "    .dataframe tbody tr th {\n",
       "        vertical-align: top;\n",
       "    }\n",
       "\n",
       "    .dataframe thead th {\n",
       "        text-align: right;\n",
       "    }\n",
       "</style>\n",
       "<table border=\"1\" class=\"dataframe\">\n",
       "  <thead>\n",
       "    <tr style=\"text-align: right;\">\n",
       "      <th></th>\n",
       "      <th>id</th>\n",
       "      <th>message_date</th>\n",
       "      <th>user_id</th>\n",
       "    </tr>\n",
       "  </thead>\n",
       "  <tbody>\n",
       "    <tr>\n",
       "      <td>0</td>\n",
       "      <td>1000_0</td>\n",
       "      <td>2018-06-27</td>\n",
       "      <td>1000</td>\n",
       "    </tr>\n",
       "    <tr>\n",
       "      <td>1</td>\n",
       "      <td>1000_1</td>\n",
       "      <td>2018-10-08</td>\n",
       "      <td>1000</td>\n",
       "    </tr>\n",
       "    <tr>\n",
       "      <td>2</td>\n",
       "      <td>1000_2</td>\n",
       "      <td>2018-08-04</td>\n",
       "      <td>1000</td>\n",
       "    </tr>\n",
       "    <tr>\n",
       "      <td>3</td>\n",
       "      <td>1000_3</td>\n",
       "      <td>2018-06-16</td>\n",
       "      <td>1000</td>\n",
       "    </tr>\n",
       "    <tr>\n",
       "      <td>4</td>\n",
       "      <td>1000_4</td>\n",
       "      <td>2018-12-05</td>\n",
       "      <td>1000</td>\n",
       "    </tr>\n",
       "  </tbody>\n",
       "</table>\n",
       "</div>"
      ],
      "text/plain": [
       "       id message_date  user_id\n",
       "0  1000_0   2018-06-27     1000\n",
       "1  1000_1   2018-10-08     1000\n",
       "2  1000_2   2018-08-04     1000\n",
       "3  1000_3   2018-06-16     1000\n",
       "4  1000_4   2018-12-05     1000"
      ]
     },
     "execution_count": 15,
     "metadata": {},
     "output_type": "execute_result"
    }
   ],
   "source": [
    "messages.head()"
   ]
  },
  {
   "cell_type": "code",
   "execution_count": 16,
   "metadata": {},
   "outputs": [
    {
     "name": "stdout",
     "output_type": "stream",
     "text": [
      "<class 'pandas.core.frame.DataFrame'>\n",
      "RangeIndex: 123036 entries, 0 to 123035\n",
      "Data columns (total 3 columns):\n",
      "id              123036 non-null object\n",
      "message_date    123036 non-null object\n",
      "user_id         123036 non-null int64\n",
      "dtypes: int64(1), object(2)\n",
      "memory usage: 2.8+ MB\n"
     ]
    }
   ],
   "source": [
    "messages.info()"
   ]
  },
  {
   "cell_type": "markdown",
   "metadata": {},
   "source": [
    "Пропусков нет, дату переведём в datetime и посмотрим на дубликаты:"
   ]
  },
  {
   "cell_type": "code",
   "execution_count": 17,
   "metadata": {},
   "outputs": [
    {
     "name": "stdout",
     "output_type": "stream",
     "text": [
      "Число дубликатов в таблице messages: 0\n"
     ]
    }
   ],
   "source": [
    "print(\"Число дубликатов в таблице messages:\", messages.duplicated().sum())"
   ]
  },
  {
   "cell_type": "code",
   "execution_count": 18,
   "metadata": {},
   "outputs": [
    {
     "name": "stdout",
     "output_type": "stream",
     "text": [
      "<class 'pandas.core.frame.DataFrame'>\n",
      "RangeIndex: 123036 entries, 0 to 123035\n",
      "Data columns (total 4 columns):\n",
      "id              123036 non-null object\n",
      "message_date    123036 non-null datetime64[ns]\n",
      "user_id         123036 non-null int64\n",
      "month           123036 non-null int64\n",
      "dtypes: datetime64[ns](1), int64(2), object(1)\n",
      "memory usage: 3.8+ MB\n"
     ]
    }
   ],
   "source": [
    "messages['message_date'] = pd.to_datetime(messages['message_date'], format='%Y-%m-%d')\n",
    "messages['month'] = messages['message_date'].apply(lambda x: x.month)\n",
    "messages.info() #проверим"
   ]
  },
  {
   "cell_type": "markdown",
   "metadata": {},
   "source": [
    "Пропусков нет, данные корректны, идем дальше"
   ]
  },
  {
   "cell_type": "markdown",
   "metadata": {},
   "source": [
    "**1.4 Посмотрим на таблицу 'internet':**"
   ]
  },
  {
   "cell_type": "code",
   "execution_count": 19,
   "metadata": {},
   "outputs": [
    {
     "data": {
      "text/html": [
       "<div>\n",
       "<style scoped>\n",
       "    .dataframe tbody tr th:only-of-type {\n",
       "        vertical-align: middle;\n",
       "    }\n",
       "\n",
       "    .dataframe tbody tr th {\n",
       "        vertical-align: top;\n",
       "    }\n",
       "\n",
       "    .dataframe thead th {\n",
       "        text-align: right;\n",
       "    }\n",
       "</style>\n",
       "<table border=\"1\" class=\"dataframe\">\n",
       "  <thead>\n",
       "    <tr style=\"text-align: right;\">\n",
       "      <th></th>\n",
       "      <th>Unnamed: 0</th>\n",
       "      <th>id</th>\n",
       "      <th>mb_used</th>\n",
       "      <th>session_date</th>\n",
       "      <th>user_id</th>\n",
       "    </tr>\n",
       "  </thead>\n",
       "  <tbody>\n",
       "    <tr>\n",
       "      <td>0</td>\n",
       "      <td>0</td>\n",
       "      <td>1000_0</td>\n",
       "      <td>112.95</td>\n",
       "      <td>2018-11-25</td>\n",
       "      <td>1000</td>\n",
       "    </tr>\n",
       "    <tr>\n",
       "      <td>1</td>\n",
       "      <td>1</td>\n",
       "      <td>1000_1</td>\n",
       "      <td>1052.81</td>\n",
       "      <td>2018-09-07</td>\n",
       "      <td>1000</td>\n",
       "    </tr>\n",
       "    <tr>\n",
       "      <td>2</td>\n",
       "      <td>2</td>\n",
       "      <td>1000_2</td>\n",
       "      <td>1197.26</td>\n",
       "      <td>2018-06-25</td>\n",
       "      <td>1000</td>\n",
       "    </tr>\n",
       "    <tr>\n",
       "      <td>3</td>\n",
       "      <td>3</td>\n",
       "      <td>1000_3</td>\n",
       "      <td>550.27</td>\n",
       "      <td>2018-08-22</td>\n",
       "      <td>1000</td>\n",
       "    </tr>\n",
       "    <tr>\n",
       "      <td>4</td>\n",
       "      <td>4</td>\n",
       "      <td>1000_4</td>\n",
       "      <td>302.56</td>\n",
       "      <td>2018-09-24</td>\n",
       "      <td>1000</td>\n",
       "    </tr>\n",
       "  </tbody>\n",
       "</table>\n",
       "</div>"
      ],
      "text/plain": [
       "   Unnamed: 0      id  mb_used session_date  user_id\n",
       "0           0  1000_0   112.95   2018-11-25     1000\n",
       "1           1  1000_1  1052.81   2018-09-07     1000\n",
       "2           2  1000_2  1197.26   2018-06-25     1000\n",
       "3           3  1000_3   550.27   2018-08-22     1000\n",
       "4           4  1000_4   302.56   2018-09-24     1000"
      ]
     },
     "execution_count": 19,
     "metadata": {},
     "output_type": "execute_result"
    }
   ],
   "source": [
    "internet.head()"
   ]
  },
  {
   "cell_type": "code",
   "execution_count": 20,
   "metadata": {},
   "outputs": [
    {
     "name": "stdout",
     "output_type": "stream",
     "text": [
      "<class 'pandas.core.frame.DataFrame'>\n",
      "RangeIndex: 149396 entries, 0 to 149395\n",
      "Data columns (total 5 columns):\n",
      "Unnamed: 0      149396 non-null int64\n",
      "id              149396 non-null object\n",
      "mb_used         149396 non-null float64\n",
      "session_date    149396 non-null object\n",
      "user_id         149396 non-null int64\n",
      "dtypes: float64(1), int64(2), object(2)\n",
      "memory usage: 5.7+ MB\n"
     ]
    }
   ],
   "source": [
    "internet.info()"
   ]
  },
  {
   "cell_type": "markdown",
   "metadata": {},
   "source": [
    "Пропусков нет, дату переведём в datetime и посмотрим на дубликаты:"
   ]
  },
  {
   "cell_type": "code",
   "execution_count": 21,
   "metadata": {},
   "outputs": [
    {
     "name": "stdout",
     "output_type": "stream",
     "text": [
      "Число дубликатов в таблице calls: 0\n"
     ]
    }
   ],
   "source": [
    "print(\"Число дубликатов в таблице calls:\", internet.duplicated().sum())"
   ]
  },
  {
   "cell_type": "code",
   "execution_count": 22,
   "metadata": {},
   "outputs": [
    {
     "name": "stdout",
     "output_type": "stream",
     "text": [
      "<class 'pandas.core.frame.DataFrame'>\n",
      "RangeIndex: 149396 entries, 0 to 149395\n",
      "Data columns (total 6 columns):\n",
      "Unnamed: 0      149396 non-null int64\n",
      "id              149396 non-null object\n",
      "mb_used         149396 non-null float64\n",
      "session_date    149396 non-null datetime64[ns]\n",
      "user_id         149396 non-null int64\n",
      "month           149396 non-null int64\n",
      "dtypes: datetime64[ns](1), float64(1), int64(3), object(1)\n",
      "memory usage: 6.8+ MB\n"
     ]
    }
   ],
   "source": [
    "internet['session_date'] = pd.to_datetime(internet['session_date'], format='%Y-%m-%d')\n",
    "internet['month'] = internet['session_date'].apply(lambda x: x.month)\n",
    "internet.info() #проверим"
   ]
  },
  {
   "cell_type": "markdown",
   "metadata": {},
   "source": [
    "Оценим  интернет-сессии. Построим гистограмму распределения объема траффика:"
   ]
  },
  {
   "cell_type": "code",
   "execution_count": 23,
   "metadata": {},
   "outputs": [
    {
     "data": {
      "image/png": "[encoded data removed]",
      "text/plain": [
       "<Figure size 720x360 with 1 Axes>"
      ]
     },
     "metadata": {
      "needs_background": "light"
     },
     "output_type": "display_data"
    }
   ],
   "source": [
    "fig, ax = plt.subplots()\n",
    "ax.set_title('Mb used, 2018')\n",
    "ax.set_xlabel('Mb used')\n",
    "internet['mb_used'].plot(kind='hist', ec='black', bins = 50, range =(0,1700), grid = False, figsize = (10,5),\n",
    "                         color ='darkorange');"
   ]
  },
  {
   "cell_type": "markdown",
   "metadata": {},
   "source": [
    "Ситуация, аналогичная звонкам. Более 20000 сессий имеют 0 траффик. Помним про павила \"Мегалайна\" и округлим весь мелкий трафик до 1 Мb, а нулевой траффик откинем. Он, аналогично звонкам, прибыли не приносит."
   ]
  },
  {
   "cell_type": "code",
   "execution_count": 24,
   "metadata": {},
   "outputs": [],
   "source": [
    "internet['mb_used'] = internet['mb_used'].apply(np.ceil)\n",
    "internet['mb_used'] = internet['mb_used'].replace(0, np.NaN)\n",
    "internet = internet.dropna()"
   ]
  },
  {
   "cell_type": "markdown",
   "metadata": {},
   "source": [
    "Повторим гистограмму без нулей "
   ]
  },
  {
   "cell_type": "code",
   "execution_count": 25,
   "metadata": {},
   "outputs": [
    {
     "data": {
      "image/png": "[encoded data removed]",
      "text/plain": [
       "<Figure size 720x360 with 1 Axes>"
      ]
     },
     "metadata": {
      "needs_background": "light"
     },
     "output_type": "display_data"
    }
   ],
   "source": [
    "fig, ax = plt.subplots()\n",
    "ax.set_title('Mb used, 2018')\n",
    "ax.set_xlabel('Mb used')\n",
    "internet['mb_used'].plot(kind='hist', ec='black', bins = 50, range =(0,1700), grid = False, figsize = (10,5),\n",
    "                         color ='darkorange');"
   ]
  },
  {
   "cell_type": "markdown",
   "metadata": {},
   "source": [
    "**1.5 Посмотрим на таблицу 'tariffs':**"
   ]
  },
  {
   "cell_type": "code",
   "execution_count": 26,
   "metadata": {},
   "outputs": [
    {
     "data": {
      "text/html": [
       "<div>\n",
       "<style scoped>\n",
       "    .dataframe tbody tr th:only-of-type {\n",
       "        vertical-align: middle;\n",
       "    }\n",
       "\n",
       "    .dataframe tbody tr th {\n",
       "        vertical-align: top;\n",
       "    }\n",
       "\n",
       "    .dataframe thead th {\n",
       "        text-align: right;\n",
       "    }\n",
       "</style>\n",
       "<table border=\"1\" class=\"dataframe\">\n",
       "  <thead>\n",
       "    <tr style=\"text-align: right;\">\n",
       "      <th></th>\n",
       "      <th>messages_included</th>\n",
       "      <th>mb_per_month_included</th>\n",
       "      <th>minutes_included</th>\n",
       "      <th>rub_monthly_fee</th>\n",
       "      <th>rub_per_gb</th>\n",
       "      <th>rub_per_message</th>\n",
       "      <th>rub_per_minute</th>\n",
       "      <th>tariff_name</th>\n",
       "    </tr>\n",
       "  </thead>\n",
       "  <tbody>\n",
       "    <tr>\n",
       "      <td>0</td>\n",
       "      <td>50</td>\n",
       "      <td>15360</td>\n",
       "      <td>500</td>\n",
       "      <td>550</td>\n",
       "      <td>200</td>\n",
       "      <td>3</td>\n",
       "      <td>3</td>\n",
       "      <td>smart</td>\n",
       "    </tr>\n",
       "    <tr>\n",
       "      <td>1</td>\n",
       "      <td>1000</td>\n",
       "      <td>30720</td>\n",
       "      <td>3000</td>\n",
       "      <td>1950</td>\n",
       "      <td>150</td>\n",
       "      <td>1</td>\n",
       "      <td>1</td>\n",
       "      <td>ultra</td>\n",
       "    </tr>\n",
       "  </tbody>\n",
       "</table>\n",
       "</div>"
      ],
      "text/plain": [
       "   messages_included  mb_per_month_included  minutes_included  \\\n",
       "0                 50                  15360               500   \n",
       "1               1000                  30720              3000   \n",
       "\n",
       "   rub_monthly_fee  rub_per_gb  rub_per_message  rub_per_minute tariff_name  \n",
       "0              550         200                3               3       smart  \n",
       "1             1950         150                1               1       ultra  "
      ]
     },
     "execution_count": 26,
     "metadata": {},
     "output_type": "execute_result"
    }
   ],
   "source": [
    "tariffs.head()"
   ]
  },
  {
   "cell_type": "markdown",
   "metadata": {},
   "source": [
    "Справочная информация."
   ]
  },
  {
   "cell_type": "markdown",
   "metadata": {},
   "source": [
    "**1.6 Процентное соотношение по городам**"
   ]
  },
  {
   "cell_type": "markdown",
   "metadata": {},
   "source": [
    "Посмотрим распределение пользователей по месту жительства. Состави новый датафрейм в процентах и построим по нему график"
   ]
  },
  {
   "cell_type": "code",
   "execution_count": 27,
   "metadata": {},
   "outputs": [
    {
     "data": {
      "text/html": [
       "<div>\n",
       "<style scoped>\n",
       "    .dataframe tbody tr th:only-of-type {\n",
       "        vertical-align: middle;\n",
       "    }\n",
       "\n",
       "    .dataframe tbody tr th {\n",
       "        vertical-align: top;\n",
       "    }\n",
       "\n",
       "    .dataframe thead th {\n",
       "        text-align: right;\n",
       "    }\n",
       "</style>\n",
       "<table border=\"1\" class=\"dataframe\">\n",
       "  <thead>\n",
       "    <tr style=\"text-align: right;\">\n",
       "      <th></th>\n",
       "      <th>Процент</th>\n",
       "    </tr>\n",
       "    <tr>\n",
       "      <th>city</th>\n",
       "      <th></th>\n",
       "    </tr>\n",
       "  </thead>\n",
       "  <tbody>\n",
       "    <tr>\n",
       "      <td>Москва</td>\n",
       "      <td>19.8</td>\n",
       "    </tr>\n",
       "    <tr>\n",
       "      <td>Санкт-Петербург</td>\n",
       "      <td>7.8</td>\n",
       "    </tr>\n",
       "    <tr>\n",
       "      <td>Новосибирск</td>\n",
       "      <td>3.2</td>\n",
       "    </tr>\n",
       "    <tr>\n",
       "      <td>Казань</td>\n",
       "      <td>2.8</td>\n",
       "    </tr>\n",
       "    <tr>\n",
       "      <td>Омск</td>\n",
       "      <td>2.8</td>\n",
       "    </tr>\n",
       "    <tr>\n",
       "      <td>Уфа</td>\n",
       "      <td>2.4</td>\n",
       "    </tr>\n",
       "    <tr>\n",
       "      <td>Набережные Челны</td>\n",
       "      <td>2.2</td>\n",
       "    </tr>\n",
       "    <tr>\n",
       "      <td>Краснодар</td>\n",
       "      <td>2.2</td>\n",
       "    </tr>\n",
       "    <tr>\n",
       "      <td>Екатеринбург</td>\n",
       "      <td>2.2</td>\n",
       "    </tr>\n",
       "    <tr>\n",
       "      <td>Ульяновск</td>\n",
       "      <td>2.2</td>\n",
       "    </tr>\n",
       "    <tr>\n",
       "      <td>Самара</td>\n",
       "      <td>1.8</td>\n",
       "    </tr>\n",
       "    <tr>\n",
       "      <td>Челябинск</td>\n",
       "      <td>1.8</td>\n",
       "    </tr>\n",
       "    <tr>\n",
       "      <td>Пермь</td>\n",
       "      <td>1.6</td>\n",
       "    </tr>\n",
       "    <tr>\n",
       "      <td>Нижний Новгород</td>\n",
       "      <td>1.6</td>\n",
       "    </tr>\n",
       "    <tr>\n",
       "      <td>Волгоград</td>\n",
       "      <td>1.6</td>\n",
       "    </tr>\n",
       "  </tbody>\n",
       "</table>\n",
       "</div>"
      ],
      "text/plain": [
       "                  Процент\n",
       "city                     \n",
       "Москва               19.8\n",
       "Санкт-Петербург       7.8\n",
       "Новосибирск           3.2\n",
       "Казань                2.8\n",
       "Омск                  2.8\n",
       "Уфа                   2.4\n",
       "Набережные Челны      2.2\n",
       "Краснодар             2.2\n",
       "Екатеринбург          2.2\n",
       "Ульяновск             2.2\n",
       "Самара                1.8\n",
       "Челябинск             1.8\n",
       "Пермь                 1.6\n",
       "Нижний Новгород       1.6\n",
       "Волгоград             1.6"
      ]
     },
     "execution_count": 27,
     "metadata": {},
     "output_type": "execute_result"
    }
   ],
   "source": [
    "def city_percent(df):\n",
    "    percent = (df.groupby('city').size()/len(users))*100\n",
    "    new_frame = {'Процент': percent}\n",
    "    dataframe = pd.DataFrame(new_frame).sort_values(by = 'Процент', ascending = False)\n",
    "    return dataframe\n",
    "\n",
    "city_percent(users).head(15)"
   ]
  },
  {
   "cell_type": "markdown",
   "metadata": {},
   "source": [
    "**1.6 Оценим тип связи, коротым чаще всего пользуются. Построим график по месяцам**"
   ]
  },
  {
   "cell_type": "code",
   "execution_count": 28,
   "metadata": {},
   "outputs": [],
   "source": [
    "def traffic_per_month(df):\n",
    "    plt.figure(figsize=(15,5))\n",
    "    df_list = df\n",
    "    ax = plt.gca()\n",
    "  \n",
    "    color_list = ['darkolivegreen', 'green', 'lime',]\n",
    "    names_for_legend = ['calls','sms','internet']\n",
    "    legend_list = []\n",
    "    \n",
    "    for i in range(len(df)):\n",
    "        current_df = df_list[i]\n",
    "        current_df_filtered = current_df.groupby('month')['id'].count().reset_index()\n",
    "        plot = current_df_filtered.plot(x='month', y='id', kind='bar', ec='black', color=color_list[i],\n",
    "                                 ax=ax, width=0.1, position = i)\n",
    "        legend_list.append(names_for_legend[i])\n",
    "        \n",
    "    ax.legend(legend_list)\n",
    "    ax.set_title('connection type, 2018')"
   ]
  },
  {
   "cell_type": "code",
   "execution_count": 29,
   "metadata": {},
   "outputs": [
    {
     "data": {
      "image/png": "[encoded data removed]",
      "text/plain": [
       "<Figure size 1080x360 with 1 Axes>"
      ]
     },
     "metadata": {
      "needs_background": "light"
     },
     "output_type": "display_data"
    }
   ],
   "source": [
    "traffic_per_month([calls, messages, internet])"
   ]
  },
  {
   "cell_type": "markdown",
   "metadata": {},
   "source": [
    "Чаще всего пользуются звонками. Интересная зависимость: похоже старт тарифов попал на начало 2018 года"
   ]
  },
  {
   "cell_type": "markdown",
   "metadata": {},
   "source": [
    "**2 Расчет помесячной выручки для каждого клиента**"
   ]
  },
  {
   "cell_type": "markdown",
   "metadata": {},
   "source": [
    "Оценим для каждого пользователя:\n",
    "\n",
    "количество сделанных звонков и израсходованных минут разговора по месяцам;\n",
    "\n",
    "\n",
    "количество отправленных сообщений по месяцам;\n",
    "\n",
    "\n",
    "объем израсходованного интернет-трафика по месяцам;\n",
    "\n",
    "\n",
    "помесячную выручку с каждого пользователя (вычтите бесплатный лимит из суммарного количества звонков, сообщений и интернет-трафика; остаток умножьте на значение из тарифного плана; прибавьте абонентскую плату, соответствующую тарифному плану)"
   ]
  },
  {
   "cell_type": "markdown",
   "metadata": {},
   "source": [
    "**2.1 Сборка данных в один датафрейм**"
   ]
  },
  {
   "cell_type": "code",
   "execution_count": 30,
   "metadata": {},
   "outputs": [],
   "source": [
    "calls = calls.groupby(['user_id', 'month'])['duration'].agg(['count', 'sum'])\n",
    "messages = messages.groupby(['user_id', 'month'])['id'].count()\n",
    "internet = internet.groupby(['user_id', 'month']).sum()['mb_used']"
   ]
  },
  {
   "cell_type": "code",
   "execution_count": 31,
   "metadata": {},
   "outputs": [
    {
     "data": {
      "text/html": [
       "<div>\n",
       "<style scoped>\n",
       "    .dataframe tbody tr th:only-of-type {\n",
       "        vertical-align: middle;\n",
       "    }\n",
       "\n",
       "    .dataframe tbody tr th {\n",
       "        vertical-align: top;\n",
       "    }\n",
       "\n",
       "    .dataframe thead th {\n",
       "        text-align: right;\n",
       "    }\n",
       "</style>\n",
       "<table border=\"1\" class=\"dataframe\">\n",
       "  <thead>\n",
       "    <tr style=\"text-align: right;\">\n",
       "      <th></th>\n",
       "      <th>user_id</th>\n",
       "      <th>month</th>\n",
       "      <th>count</th>\n",
       "      <th>sum</th>\n",
       "      <th>id</th>\n",
       "      <th>mb_used</th>\n",
       "    </tr>\n",
       "  </thead>\n",
       "  <tbody>\n",
       "    <tr>\n",
       "      <td>0</td>\n",
       "      <td>1000</td>\n",
       "      <td>5</td>\n",
       "      <td>17.0</td>\n",
       "      <td>159.0</td>\n",
       "      <td>22.0</td>\n",
       "      <td>2256.0</td>\n",
       "    </tr>\n",
       "    <tr>\n",
       "      <td>1</td>\n",
       "      <td>1000</td>\n",
       "      <td>6</td>\n",
       "      <td>28.0</td>\n",
       "      <td>172.0</td>\n",
       "      <td>60.0</td>\n",
       "      <td>23257.0</td>\n",
       "    </tr>\n",
       "    <tr>\n",
       "      <td>2</td>\n",
       "      <td>1000</td>\n",
       "      <td>7</td>\n",
       "      <td>41.0</td>\n",
       "      <td>340.0</td>\n",
       "      <td>75.0</td>\n",
       "      <td>14016.0</td>\n",
       "    </tr>\n",
       "    <tr>\n",
       "      <td>3</td>\n",
       "      <td>1000</td>\n",
       "      <td>8</td>\n",
       "      <td>42.0</td>\n",
       "      <td>408.0</td>\n",
       "      <td>81.0</td>\n",
       "      <td>14070.0</td>\n",
       "    </tr>\n",
       "    <tr>\n",
       "      <td>4</td>\n",
       "      <td>1000</td>\n",
       "      <td>9</td>\n",
       "      <td>46.0</td>\n",
       "      <td>466.0</td>\n",
       "      <td>57.0</td>\n",
       "      <td>14581.0</td>\n",
       "    </tr>\n",
       "  </tbody>\n",
       "</table>\n",
       "</div>"
      ],
      "text/plain": [
       "   user_id  month  count    sum    id  mb_used\n",
       "0     1000      5   17.0  159.0  22.0   2256.0\n",
       "1     1000      6   28.0  172.0  60.0  23257.0\n",
       "2     1000      7   41.0  340.0  75.0  14016.0\n",
       "3     1000      8   42.0  408.0  81.0  14070.0\n",
       "4     1000      9   46.0  466.0  57.0  14581.0"
      ]
     },
     "execution_count": 31,
     "metadata": {},
     "output_type": "execute_result"
    }
   ],
   "source": [
    "full_df = pd.concat([calls, messages, internet], axis=1)\n",
    "full_df = full_df.reset_index()\n",
    "full_df.head() #выводим результат"
   ]
  },
  {
   "cell_type": "markdown",
   "metadata": {},
   "source": [
    "Добавим столбцы с тарифом и городом"
   ]
  },
  {
   "cell_type": "code",
   "execution_count": 32,
   "metadata": {},
   "outputs": [],
   "source": [
    "map1 = dict(pd.Series(users['tariff'].values, index=users['user_id']))\n",
    "full_df['Тариф'] = full_df['user_id'].map(map1)\n",
    "\n",
    "map2 = dict(pd.Series(users['city'].values, index=users['user_id']))\n",
    "full_df['Город'] = full_df['user_id'].map(map2)"
   ]
  },
  {
   "cell_type": "markdown",
   "metadata": {},
   "source": [
    "Переименуем столбцы"
   ]
  },
  {
   "cell_type": "code",
   "execution_count": 33,
   "metadata": {},
   "outputs": [],
   "source": [
    "full_df.columns = ['User_id', 'Месяц', 'Кол-во звонков, шт.', 'Звонки, мин.', 'СМС, шт.', 'Интернет, Мб', 'Тариф', 'Город']"
   ]
  },
  {
   "cell_type": "code",
   "execution_count": 34,
   "metadata": {},
   "outputs": [
    {
     "data": {
      "text/html": [
       "<div>\n",
       "<style scoped>\n",
       "    .dataframe tbody tr th:only-of-type {\n",
       "        vertical-align: middle;\n",
       "    }\n",
       "\n",
       "    .dataframe tbody tr th {\n",
       "        vertical-align: top;\n",
       "    }\n",
       "\n",
       "    .dataframe thead th {\n",
       "        text-align: right;\n",
       "    }\n",
       "</style>\n",
       "<table border=\"1\" class=\"dataframe\">\n",
       "  <thead>\n",
       "    <tr style=\"text-align: right;\">\n",
       "      <th></th>\n",
       "      <th>User_id</th>\n",
       "      <th>Месяц</th>\n",
       "      <th>Кол-во звонков, шт.</th>\n",
       "      <th>Звонки, мин.</th>\n",
       "      <th>СМС, шт.</th>\n",
       "      <th>Интернет, Мб</th>\n",
       "      <th>Тариф</th>\n",
       "      <th>Город</th>\n",
       "    </tr>\n",
       "  </thead>\n",
       "  <tbody>\n",
       "    <tr>\n",
       "      <td>0</td>\n",
       "      <td>1000</td>\n",
       "      <td>5</td>\n",
       "      <td>17.0</td>\n",
       "      <td>159.0</td>\n",
       "      <td>22.0</td>\n",
       "      <td>2256.0</td>\n",
       "      <td>ultra</td>\n",
       "      <td>Краснодар</td>\n",
       "    </tr>\n",
       "    <tr>\n",
       "      <td>1</td>\n",
       "      <td>1000</td>\n",
       "      <td>6</td>\n",
       "      <td>28.0</td>\n",
       "      <td>172.0</td>\n",
       "      <td>60.0</td>\n",
       "      <td>23257.0</td>\n",
       "      <td>ultra</td>\n",
       "      <td>Краснодар</td>\n",
       "    </tr>\n",
       "    <tr>\n",
       "      <td>2</td>\n",
       "      <td>1000</td>\n",
       "      <td>7</td>\n",
       "      <td>41.0</td>\n",
       "      <td>340.0</td>\n",
       "      <td>75.0</td>\n",
       "      <td>14016.0</td>\n",
       "      <td>ultra</td>\n",
       "      <td>Краснодар</td>\n",
       "    </tr>\n",
       "    <tr>\n",
       "      <td>3</td>\n",
       "      <td>1000</td>\n",
       "      <td>8</td>\n",
       "      <td>42.0</td>\n",
       "      <td>408.0</td>\n",
       "      <td>81.0</td>\n",
       "      <td>14070.0</td>\n",
       "      <td>ultra</td>\n",
       "      <td>Краснодар</td>\n",
       "    </tr>\n",
       "    <tr>\n",
       "      <td>4</td>\n",
       "      <td>1000</td>\n",
       "      <td>9</td>\n",
       "      <td>46.0</td>\n",
       "      <td>466.0</td>\n",
       "      <td>57.0</td>\n",
       "      <td>14581.0</td>\n",
       "      <td>ultra</td>\n",
       "      <td>Краснодар</td>\n",
       "    </tr>\n",
       "    <tr>\n",
       "      <td>5</td>\n",
       "      <td>1000</td>\n",
       "      <td>10</td>\n",
       "      <td>44.0</td>\n",
       "      <td>350.0</td>\n",
       "      <td>73.0</td>\n",
       "      <td>14717.0</td>\n",
       "      <td>ultra</td>\n",
       "      <td>Краснодар</td>\n",
       "    </tr>\n",
       "    <tr>\n",
       "      <td>6</td>\n",
       "      <td>1000</td>\n",
       "      <td>11</td>\n",
       "      <td>37.0</td>\n",
       "      <td>338.0</td>\n",
       "      <td>58.0</td>\n",
       "      <td>14768.0</td>\n",
       "      <td>ultra</td>\n",
       "      <td>Краснодар</td>\n",
       "    </tr>\n",
       "    <tr>\n",
       "      <td>7</td>\n",
       "      <td>1000</td>\n",
       "      <td>12</td>\n",
       "      <td>38.0</td>\n",
       "      <td>333.0</td>\n",
       "      <td>70.0</td>\n",
       "      <td>9827.0</td>\n",
       "      <td>ultra</td>\n",
       "      <td>Краснодар</td>\n",
       "    </tr>\n",
       "    <tr>\n",
       "      <td>8</td>\n",
       "      <td>1001</td>\n",
       "      <td>11</td>\n",
       "      <td>45.0</td>\n",
       "      <td>430.0</td>\n",
       "      <td>NaN</td>\n",
       "      <td>18452.0</td>\n",
       "      <td>smart</td>\n",
       "      <td>Москва</td>\n",
       "    </tr>\n",
       "    <tr>\n",
       "      <td>9</td>\n",
       "      <td>1001</td>\n",
       "      <td>12</td>\n",
       "      <td>47.0</td>\n",
       "      <td>414.0</td>\n",
       "      <td>NaN</td>\n",
       "      <td>14053.0</td>\n",
       "      <td>smart</td>\n",
       "      <td>Москва</td>\n",
       "    </tr>\n",
       "  </tbody>\n",
       "</table>\n",
       "</div>"
      ],
      "text/plain": [
       "   User_id  Месяц  Кол-во звонков, шт.  Звонки, мин.  СМС, шт.  Интернет, Мб  \\\n",
       "0     1000      5                 17.0         159.0      22.0        2256.0   \n",
       "1     1000      6                 28.0         172.0      60.0       23257.0   \n",
       "2     1000      7                 41.0         340.0      75.0       14016.0   \n",
       "3     1000      8                 42.0         408.0      81.0       14070.0   \n",
       "4     1000      9                 46.0         466.0      57.0       14581.0   \n",
       "5     1000     10                 44.0         350.0      73.0       14717.0   \n",
       "6     1000     11                 37.0         338.0      58.0       14768.0   \n",
       "7     1000     12                 38.0         333.0      70.0        9827.0   \n",
       "8     1001     11                 45.0         430.0       NaN       18452.0   \n",
       "9     1001     12                 47.0         414.0       NaN       14053.0   \n",
       "\n",
       "   Тариф      Город  \n",
       "0  ultra  Краснодар  \n",
       "1  ultra  Краснодар  \n",
       "2  ultra  Краснодар  \n",
       "3  ultra  Краснодар  \n",
       "4  ultra  Краснодар  \n",
       "5  ultra  Краснодар  \n",
       "6  ultra  Краснодар  \n",
       "7  ultra  Краснодар  \n",
       "8  smart     Москва  \n",
       "9  smart     Москва  "
      ]
     },
     "execution_count": 34,
     "metadata": {},
     "output_type": "execute_result"
    }
   ],
   "source": [
    "full_df.head(10)  #выводим результат"
   ]
  },
  {
   "cell_type": "markdown",
   "metadata": {},
   "source": [
    "**2.1 Оценка и заполнение пропусков**"
   ]
  },
  {
   "cell_type": "code",
   "execution_count": 35,
   "metadata": {},
   "outputs": [
    {
     "name": "stdout",
     "output_type": "stream",
     "text": [
      "<class 'pandas.core.frame.DataFrame'>\n",
      "RangeIndex: 3214 entries, 0 to 3213\n",
      "Data columns (total 8 columns):\n",
      "User_id                3214 non-null int64\n",
      "Месяц                  3214 non-null int64\n",
      "Кол-во звонков, шт.    3168 non-null float64\n",
      "Звонки, мин.           3168 non-null float64\n",
      "СМС, шт.               2717 non-null float64\n",
      "Интернет, Мб           3201 non-null float64\n",
      "Тариф                  3214 non-null object\n",
      "Город                  3214 non-null object\n",
      "dtypes: float64(4), int64(2), object(2)\n",
      "memory usage: 201.0+ KB\n"
     ]
    }
   ],
   "source": [
    "full_df.info()"
   ]
  },
  {
   "cell_type": "markdown",
   "metadata": {},
   "source": [
    "Во всех типах связи есть пропуски. Посмотрим есть ли клиенты, которые не воспользовались всеми тремя типами связи. Если да, то удалим таких клиентов. Если их нет. Заменим пропуски на 0."
   ]
  },
  {
   "cell_type": "code",
   "execution_count": 36,
   "metadata": {},
   "outputs": [
    {
     "data": {
      "text/html": [
       "<div>\n",
       "<style scoped>\n",
       "    .dataframe tbody tr th:only-of-type {\n",
       "        vertical-align: middle;\n",
       "    }\n",
       "\n",
       "    .dataframe tbody tr th {\n",
       "        vertical-align: top;\n",
       "    }\n",
       "\n",
       "    .dataframe thead th {\n",
       "        text-align: right;\n",
       "    }\n",
       "</style>\n",
       "<table border=\"1\" class=\"dataframe\">\n",
       "  <thead>\n",
       "    <tr style=\"text-align: right;\">\n",
       "      <th></th>\n",
       "      <th>User_id</th>\n",
       "      <th>Месяц</th>\n",
       "      <th>Кол-во звонков, шт.</th>\n",
       "      <th>Звонки, мин.</th>\n",
       "      <th>СМС, шт.</th>\n",
       "      <th>Интернет, Мб</th>\n",
       "      <th>Тариф</th>\n",
       "      <th>Город</th>\n",
       "    </tr>\n",
       "  </thead>\n",
       "  <tbody>\n",
       "  </tbody>\n",
       "</table>\n",
       "</div>"
      ],
      "text/plain": [
       "Empty DataFrame\n",
       "Columns: [User_id, Месяц, Кол-во звонков, шт., Звонки, мин., СМС, шт., Интернет, Мб, Тариф, Город]\n",
       "Index: []"
      ]
     },
     "execution_count": 36,
     "metadata": {},
     "output_type": "execute_result"
    }
   ],
   "source": [
    "full_df[(full_df['Интернет, Мб'].isnull()) & (full_df['СМС, шт.'].isnull()) & (full_df['Звонки, мин.'].isnull())]"
   ]
  },
  {
   "cell_type": "code",
   "execution_count": 37,
   "metadata": {},
   "outputs": [
    {
     "name": "stdout",
     "output_type": "stream",
     "text": [
      "<class 'pandas.core.frame.DataFrame'>\n",
      "RangeIndex: 3214 entries, 0 to 3213\n",
      "Data columns (total 8 columns):\n",
      "User_id                3214 non-null int64\n",
      "Месяц                  3214 non-null int64\n",
      "Кол-во звонков, шт.    3214 non-null float64\n",
      "Звонки, мин.           3214 non-null float64\n",
      "СМС, шт.               3214 non-null float64\n",
      "Интернет, Мб           3214 non-null float64\n",
      "Тариф                  3214 non-null object\n",
      "Город                  3214 non-null object\n",
      "dtypes: float64(4), int64(2), object(2)\n",
      "memory usage: 201.0+ KB\n"
     ]
    }
   ],
   "source": [
    "full_df = full_df.fillna(0)\n",
    "full_df.info() #проверим"
   ]
  },
  {
   "cell_type": "markdown",
   "metadata": {},
   "source": [
    "**2.2 Сравнение количества пользователей и частоты использования тарифов и видов связи**"
   ]
  },
  {
   "cell_type": "markdown",
   "metadata": {},
   "source": [
    "Посмотрим на соотношение использования тарифов"
   ]
  },
  {
   "cell_type": "code",
   "execution_count": 38,
   "metadata": {
    "scrolled": false
   },
   "outputs": [
    {
     "data": {
      "image/png": "[encoded data removed]",
      "text/plain": [
       "<Figure size 720x360 with 1 Axes>"
      ]
     },
     "metadata": {
      "needs_background": "light"
     },
     "output_type": "display_data"
    }
   ],
   "source": [
    "ax = plt.gca()\n",
    "ax.set_title('Сравнение численности клиенотов тарифов smart и ultra')\n",
    "ax.set_ylabel('Количество клиентов в выборке')\n",
    "full_df.groupby('Тариф')['User_id'].count().plot(kind='bar',  figsize=(10,5), ec='black', ax=ax, color='teal');\n"
   ]
  },
  {
   "cell_type": "markdown",
   "metadata": {},
   "source": [
    "**2.3 Распределение звонков, смс, интернет-траффика по тарифам**"
   ]
  },
  {
   "cell_type": "markdown",
   "metadata": {},
   "source": [
    "Напишем функцию для этих целей"
   ]
  },
  {
   "cell_type": "code",
   "execution_count": 39,
   "metadata": {},
   "outputs": [],
   "source": [
    "def connection_percent(df, column):\n",
    "    sum1 = df.groupby('Тариф')[column].sum()\n",
    "    percent_of_sum1 = (sum1 / df[column].sum())*100\n",
    "    new_frame = {'Процент': percent_of_sum1}\n",
    "    dataframe = pd.DataFrame(new_frame).sort_values(by = 'Процент', ascending = False).round(2);\n",
    "    return dataframe"
   ]
  },
  {
   "cell_type": "markdown",
   "metadata": {},
   "source": [
    "Сперва снова посмотрим на данные из прошлого пункта, но уже в %"
   ]
  },
  {
   "cell_type": "code",
   "execution_count": 40,
   "metadata": {},
   "outputs": [
    {
     "data": {
      "text/html": [
       "<div>\n",
       "<style scoped>\n",
       "    .dataframe tbody tr th:only-of-type {\n",
       "        vertical-align: middle;\n",
       "    }\n",
       "\n",
       "    .dataframe tbody tr th {\n",
       "        vertical-align: top;\n",
       "    }\n",
       "\n",
       "    .dataframe thead th {\n",
       "        text-align: right;\n",
       "    }\n",
       "</style>\n",
       "<table border=\"1\" class=\"dataframe\">\n",
       "  <thead>\n",
       "    <tr style=\"text-align: right;\">\n",
       "      <th></th>\n",
       "      <th>Процент</th>\n",
       "    </tr>\n",
       "    <tr>\n",
       "      <th>Тариф</th>\n",
       "      <th></th>\n",
       "    </tr>\n",
       "  </thead>\n",
       "  <tbody>\n",
       "    <tr>\n",
       "      <td>smart</td>\n",
       "      <td>69.07</td>\n",
       "    </tr>\n",
       "    <tr>\n",
       "      <td>ultra</td>\n",
       "      <td>30.93</td>\n",
       "    </tr>\n",
       "  </tbody>\n",
       "</table>\n",
       "</div>"
      ],
      "text/plain": [
       "       Процент\n",
       "Тариф         \n",
       "smart    69.07\n",
       "ultra    30.93"
      ]
     },
     "execution_count": 40,
     "metadata": {},
     "output_type": "execute_result"
    }
   ],
   "source": [
    "connection_percent(full_df, 'User_id')"
   ]
  },
  {
   "cell_type": "markdown",
   "metadata": {},
   "source": [
    "Сформируем процентное соотношение по объему интрентет-траффика:"
   ]
  },
  {
   "cell_type": "code",
   "execution_count": 41,
   "metadata": {},
   "outputs": [
    {
     "data": {
      "text/html": [
       "<div>\n",
       "<style scoped>\n",
       "    .dataframe tbody tr th:only-of-type {\n",
       "        vertical-align: middle;\n",
       "    }\n",
       "\n",
       "    .dataframe tbody tr th {\n",
       "        vertical-align: top;\n",
       "    }\n",
       "\n",
       "    .dataframe thead th {\n",
       "        text-align: right;\n",
       "    }\n",
       "</style>\n",
       "<table border=\"1\" class=\"dataframe\">\n",
       "  <thead>\n",
       "    <tr style=\"text-align: right;\">\n",
       "      <th></th>\n",
       "      <th>Процент</th>\n",
       "    </tr>\n",
       "    <tr>\n",
       "      <th>Тариф</th>\n",
       "      <th></th>\n",
       "    </tr>\n",
       "  </thead>\n",
       "  <tbody>\n",
       "    <tr>\n",
       "      <td>smart</td>\n",
       "      <td>65.33</td>\n",
       "    </tr>\n",
       "    <tr>\n",
       "      <td>ultra</td>\n",
       "      <td>34.67</td>\n",
       "    </tr>\n",
       "  </tbody>\n",
       "</table>\n",
       "</div>"
      ],
      "text/plain": [
       "       Процент\n",
       "Тариф         \n",
       "smart    65.33\n",
       "ultra    34.67"
      ]
     },
     "execution_count": 41,
     "metadata": {},
     "output_type": "execute_result"
    }
   ],
   "source": [
    "connection_percent(full_df, 'Интернет, Мб')"
   ]
  },
  {
   "cell_type": "markdown",
   "metadata": {},
   "source": [
    "Сформируем процентное соотношение по времени звонков"
   ]
  },
  {
   "cell_type": "code",
   "execution_count": 42,
   "metadata": {},
   "outputs": [
    {
     "data": {
      "text/html": [
       "<div>\n",
       "<style scoped>\n",
       "    .dataframe tbody tr th:only-of-type {\n",
       "        vertical-align: middle;\n",
       "    }\n",
       "\n",
       "    .dataframe tbody tr th {\n",
       "        vertical-align: top;\n",
       "    }\n",
       "\n",
       "    .dataframe thead th {\n",
       "        text-align: right;\n",
       "    }\n",
       "</style>\n",
       "<table border=\"1\" class=\"dataframe\">\n",
       "  <thead>\n",
       "    <tr style=\"text-align: right;\">\n",
       "      <th></th>\n",
       "      <th>Процент</th>\n",
       "    </tr>\n",
       "    <tr>\n",
       "      <th>Тариф</th>\n",
       "      <th></th>\n",
       "    </tr>\n",
       "  </thead>\n",
       "  <tbody>\n",
       "    <tr>\n",
       "      <td>smart</td>\n",
       "      <td>64.23</td>\n",
       "    </tr>\n",
       "    <tr>\n",
       "      <td>ultra</td>\n",
       "      <td>35.77</td>\n",
       "    </tr>\n",
       "  </tbody>\n",
       "</table>\n",
       "</div>"
      ],
      "text/plain": [
       "       Процент\n",
       "Тариф         \n",
       "smart    64.23\n",
       "ultra    35.77"
      ]
     },
     "execution_count": 42,
     "metadata": {},
     "output_type": "execute_result"
    }
   ],
   "source": [
    "connection_percent(full_df, 'Звонки, мин.')"
   ]
  },
  {
   "cell_type": "markdown",
   "metadata": {},
   "source": [
    "Сформируем процентное соотношение по количеству смс"
   ]
  },
  {
   "cell_type": "code",
   "execution_count": 43,
   "metadata": {},
   "outputs": [
    {
     "data": {
      "text/html": [
       "<div>\n",
       "<style scoped>\n",
       "    .dataframe tbody tr th:only-of-type {\n",
       "        vertical-align: middle;\n",
       "    }\n",
       "\n",
       "    .dataframe tbody tr th {\n",
       "        vertical-align: top;\n",
       "    }\n",
       "\n",
       "    .dataframe thead th {\n",
       "        text-align: right;\n",
       "    }\n",
       "</style>\n",
       "<table border=\"1\" class=\"dataframe\">\n",
       "  <thead>\n",
       "    <tr style=\"text-align: right;\">\n",
       "      <th></th>\n",
       "      <th>Процент</th>\n",
       "    </tr>\n",
       "    <tr>\n",
       "      <th>Тариф</th>\n",
       "      <th></th>\n",
       "    </tr>\n",
       "  </thead>\n",
       "  <tbody>\n",
       "    <tr>\n",
       "      <td>smart</td>\n",
       "      <td>60.48</td>\n",
       "    </tr>\n",
       "    <tr>\n",
       "      <td>ultra</td>\n",
       "      <td>39.52</td>\n",
       "    </tr>\n",
       "  </tbody>\n",
       "</table>\n",
       "</div>"
      ],
      "text/plain": [
       "       Процент\n",
       "Тариф         \n",
       "smart    60.48\n",
       "ultra    39.52"
      ]
     },
     "execution_count": 43,
     "metadata": {},
     "output_type": "execute_result"
    }
   ],
   "source": [
    "connection_percent(full_df, 'СМС, шт.')"
   ]
  },
  {
   "cell_type": "markdown",
   "metadata": {},
   "source": [
    "Как мы видим доли по количеству абонетов в каждом из тарифов сопоставимы с долями по звонкам, смскам и траффику"
   ]
  },
  {
   "cell_type": "markdown",
   "metadata": {},
   "source": [
    "**2.4 Добавление информации о помесячной выручке с каждого пользователя:**"
   ]
  },
  {
   "cell_type": "markdown",
   "metadata": {},
   "source": [
    "Добавим столбец стоимости по тарифу"
   ]
  },
  {
   "cell_type": "code",
   "execution_count": 44,
   "metadata": {},
   "outputs": [],
   "source": [
    "price = {'smart': 550, 'ultra': 1950}\n",
    "full_df['Аб. плата, руб.'] = full_df['Тариф'].map(price)"
   ]
  },
  {
   "cell_type": "markdown",
   "metadata": {},
   "source": [
    "Минуты сверх, СМС сверх, Мб сверх, Доплата - для добавления этих столбцов напишем следующие функции:"
   ]
  },
  {
   "cell_type": "code",
   "execution_count": 45,
   "metadata": {},
   "outputs": [],
   "source": [
    "def calls_over(row):\n",
    "    if row['Тариф'] == 'smart':\n",
    "        if row['Звонки, мин.'] > 500:\n",
    "            return  row['Звонки, мин.'] - 500\n",
    "        else:\n",
    "            return 0\n",
    "    else: \n",
    "        if row['Звонки, мин.'] > 3000:\n",
    "            return row['Звонки, мин.'] - 3000\n",
    "        else:\n",
    "            return 0"
   ]
  },
  {
   "cell_type": "code",
   "execution_count": 46,
   "metadata": {},
   "outputs": [],
   "source": [
    "full_df['Минуты сверх'] = full_df.apply(calls_over, axis=1)"
   ]
  },
  {
   "cell_type": "code",
   "execution_count": 47,
   "metadata": {},
   "outputs": [],
   "source": [
    "def sms_over(row):\n",
    "    if row['Тариф'] == 'smart':\n",
    "        if row['СМС, шт.'] > 50:\n",
    "            return  row['СМС, шт.'] - 50\n",
    "        else:\n",
    "            return 0\n",
    "    else:\n",
    "        if row['СМС, шт.'] > 1000:\n",
    "            return  row['СМС, шт.'] - 1000\n",
    "        else:\n",
    "            return 0"
   ]
  },
  {
   "cell_type": "code",
   "execution_count": 48,
   "metadata": {},
   "outputs": [],
   "source": [
    "full_df['СМС сверх'] = full_df.apply(sms_over, axis=1)"
   ]
  },
  {
   "cell_type": "code",
   "execution_count": 49,
   "metadata": {},
   "outputs": [],
   "source": [
    "def traffic_over(row):\n",
    "    if row['Тариф'] == 'smart':\n",
    "        if row['Интернет, Мб'] > 15360:\n",
    "            return row['Интернет, Мб'] - 15360\n",
    "        else:\n",
    "            return 0\n",
    "    else:\n",
    "        if row['Интернет, Мб'] > 30720:\n",
    "            return row['Интернет, Мб'] - 30720\n",
    "        else:\n",
    "            return 0"
   ]
  },
  {
   "cell_type": "code",
   "execution_count": 50,
   "metadata": {},
   "outputs": [],
   "source": [
    "full_df['Мб сверх'] = full_df.apply(traffic_over, axis=1)"
   ]
  },
  {
   "cell_type": "code",
   "execution_count": 51,
   "metadata": {},
   "outputs": [],
   "source": [
    "def month_sum_over(row):\n",
    "    sum_per_month = 0\n",
    "    if row['Тариф'] == 'smart':\n",
    "        sum_per_month = np.ceil(row['Минуты сверх'] * 3) #округлим\n",
    "        sum_per_month = row['СМС сверх'] * 3\n",
    "        sum_per_month = np.ceil((row['Мб сверх']/1024) * 200) # Мб в Гб + округлим\n",
    "        return sum_per_month\n",
    "    \n",
    "    else:\n",
    "        sum_per_month = np.ceil(row['Минуты сверх'] * 1) #округлим\n",
    "        sum_per_month = row['СМС сверх'] * 1\n",
    "        sum_per_month = np.ceil((row['Мб сверх']/1024) * 150) # Мб в Гб + округлим\n",
    "        return sum_per_month"
   ]
  },
  {
   "cell_type": "code",
   "execution_count": 52,
   "metadata": {},
   "outputs": [
    {
     "data": {
      "text/html": [
       "<div>\n",
       "<style scoped>\n",
       "    .dataframe tbody tr th:only-of-type {\n",
       "        vertical-align: middle;\n",
       "    }\n",
       "\n",
       "    .dataframe tbody tr th {\n",
       "        vertical-align: top;\n",
       "    }\n",
       "\n",
       "    .dataframe thead th {\n",
       "        text-align: right;\n",
       "    }\n",
       "</style>\n",
       "<table border=\"1\" class=\"dataframe\">\n",
       "  <thead>\n",
       "    <tr style=\"text-align: right;\">\n",
       "      <th></th>\n",
       "      <th>User_id</th>\n",
       "      <th>Месяц</th>\n",
       "      <th>Кол-во звонков, шт.</th>\n",
       "      <th>Звонки, мин.</th>\n",
       "      <th>СМС, шт.</th>\n",
       "      <th>Интернет, Мб</th>\n",
       "      <th>Тариф</th>\n",
       "      <th>Город</th>\n",
       "      <th>Аб. плата, руб.</th>\n",
       "      <th>Минуты сверх</th>\n",
       "      <th>СМС сверх</th>\n",
       "      <th>Мб сверх</th>\n",
       "      <th>Доплата, руб.</th>\n",
       "    </tr>\n",
       "  </thead>\n",
       "  <tbody>\n",
       "    <tr>\n",
       "      <td>3204</td>\n",
       "      <td>1497</td>\n",
       "      <td>11</td>\n",
       "      <td>48.0</td>\n",
       "      <td>371.0</td>\n",
       "      <td>14.0</td>\n",
       "      <td>14174.0</td>\n",
       "      <td>smart</td>\n",
       "      <td>Челябинск</td>\n",
       "      <td>550</td>\n",
       "      <td>0.0</td>\n",
       "      <td>0.0</td>\n",
       "      <td>0.0</td>\n",
       "      <td>0.0</td>\n",
       "    </tr>\n",
       "    <tr>\n",
       "      <td>3205</td>\n",
       "      <td>1497</td>\n",
       "      <td>12</td>\n",
       "      <td>58.0</td>\n",
       "      <td>545.0</td>\n",
       "      <td>17.0</td>\n",
       "      <td>19940.0</td>\n",
       "      <td>smart</td>\n",
       "      <td>Челябинск</td>\n",
       "      <td>550</td>\n",
       "      <td>45.0</td>\n",
       "      <td>0.0</td>\n",
       "      <td>4580.0</td>\n",
       "      <td>895.0</td>\n",
       "    </tr>\n",
       "    <tr>\n",
       "      <td>3206</td>\n",
       "      <td>1498</td>\n",
       "      <td>7</td>\n",
       "      <td>20.0</td>\n",
       "      <td>175.0</td>\n",
       "      <td>20.0</td>\n",
       "      <td>7486.0</td>\n",
       "      <td>smart</td>\n",
       "      <td>Владикавказ</td>\n",
       "      <td>550</td>\n",
       "      <td>0.0</td>\n",
       "      <td>0.0</td>\n",
       "      <td>0.0</td>\n",
       "      <td>0.0</td>\n",
       "    </tr>\n",
       "    <tr>\n",
       "      <td>3207</td>\n",
       "      <td>1498</td>\n",
       "      <td>8</td>\n",
       "      <td>43.0</td>\n",
       "      <td>400.0</td>\n",
       "      <td>62.0</td>\n",
       "      <td>24270.0</td>\n",
       "      <td>smart</td>\n",
       "      <td>Владикавказ</td>\n",
       "      <td>550</td>\n",
       "      <td>0.0</td>\n",
       "      <td>12.0</td>\n",
       "      <td>8910.0</td>\n",
       "      <td>1741.0</td>\n",
       "    </tr>\n",
       "    <tr>\n",
       "      <td>3208</td>\n",
       "      <td>1498</td>\n",
       "      <td>9</td>\n",
       "      <td>53.0</td>\n",
       "      <td>471.0</td>\n",
       "      <td>44.0</td>\n",
       "      <td>22166.0</td>\n",
       "      <td>smart</td>\n",
       "      <td>Владикавказ</td>\n",
       "      <td>550</td>\n",
       "      <td>0.0</td>\n",
       "      <td>0.0</td>\n",
       "      <td>6806.0</td>\n",
       "      <td>1330.0</td>\n",
       "    </tr>\n",
       "    <tr>\n",
       "      <td>3209</td>\n",
       "      <td>1498</td>\n",
       "      <td>10</td>\n",
       "      <td>30.0</td>\n",
       "      <td>247.0</td>\n",
       "      <td>42.0</td>\n",
       "      <td>20604.0</td>\n",
       "      <td>smart</td>\n",
       "      <td>Владикавказ</td>\n",
       "      <td>550</td>\n",
       "      <td>0.0</td>\n",
       "      <td>0.0</td>\n",
       "      <td>5244.0</td>\n",
       "      <td>1025.0</td>\n",
       "    </tr>\n",
       "    <tr>\n",
       "      <td>3210</td>\n",
       "      <td>1499</td>\n",
       "      <td>9</td>\n",
       "      <td>8.0</td>\n",
       "      <td>70.0</td>\n",
       "      <td>11.0</td>\n",
       "      <td>1848.0</td>\n",
       "      <td>smart</td>\n",
       "      <td>Пермь</td>\n",
       "      <td>550</td>\n",
       "      <td>0.0</td>\n",
       "      <td>0.0</td>\n",
       "      <td>0.0</td>\n",
       "      <td>0.0</td>\n",
       "    </tr>\n",
       "    <tr>\n",
       "      <td>3211</td>\n",
       "      <td>1499</td>\n",
       "      <td>10</td>\n",
       "      <td>44.0</td>\n",
       "      <td>449.0</td>\n",
       "      <td>48.0</td>\n",
       "      <td>17809.0</td>\n",
       "      <td>smart</td>\n",
       "      <td>Пермь</td>\n",
       "      <td>550</td>\n",
       "      <td>0.0</td>\n",
       "      <td>0.0</td>\n",
       "      <td>2449.0</td>\n",
       "      <td>479.0</td>\n",
       "    </tr>\n",
       "    <tr>\n",
       "      <td>3212</td>\n",
       "      <td>1499</td>\n",
       "      <td>11</td>\n",
       "      <td>62.0</td>\n",
       "      <td>612.0</td>\n",
       "      <td>59.0</td>\n",
       "      <td>17984.0</td>\n",
       "      <td>smart</td>\n",
       "      <td>Пермь</td>\n",
       "      <td>550</td>\n",
       "      <td>112.0</td>\n",
       "      <td>9.0</td>\n",
       "      <td>2624.0</td>\n",
       "      <td>513.0</td>\n",
       "    </tr>\n",
       "    <tr>\n",
       "      <td>3213</td>\n",
       "      <td>1499</td>\n",
       "      <td>12</td>\n",
       "      <td>56.0</td>\n",
       "      <td>492.0</td>\n",
       "      <td>66.0</td>\n",
       "      <td>13077.0</td>\n",
       "      <td>smart</td>\n",
       "      <td>Пермь</td>\n",
       "      <td>550</td>\n",
       "      <td>0.0</td>\n",
       "      <td>16.0</td>\n",
       "      <td>0.0</td>\n",
       "      <td>0.0</td>\n",
       "    </tr>\n",
       "  </tbody>\n",
       "</table>\n",
       "</div>"
      ],
      "text/plain": [
       "      User_id  Месяц  Кол-во звонков, шт.  Звонки, мин.  СМС, шт.  \\\n",
       "3204     1497     11                 48.0         371.0      14.0   \n",
       "3205     1497     12                 58.0         545.0      17.0   \n",
       "3206     1498      7                 20.0         175.0      20.0   \n",
       "3207     1498      8                 43.0         400.0      62.0   \n",
       "3208     1498      9                 53.0         471.0      44.0   \n",
       "3209     1498     10                 30.0         247.0      42.0   \n",
       "3210     1499      9                  8.0          70.0      11.0   \n",
       "3211     1499     10                 44.0         449.0      48.0   \n",
       "3212     1499     11                 62.0         612.0      59.0   \n",
       "3213     1499     12                 56.0         492.0      66.0   \n",
       "\n",
       "      Интернет, Мб  Тариф        Город  Аб. плата, руб.  Минуты сверх  \\\n",
       "3204       14174.0  smart    Челябинск              550           0.0   \n",
       "3205       19940.0  smart    Челябинск              550          45.0   \n",
       "3206        7486.0  smart  Владикавказ              550           0.0   \n",
       "3207       24270.0  smart  Владикавказ              550           0.0   \n",
       "3208       22166.0  smart  Владикавказ              550           0.0   \n",
       "3209       20604.0  smart  Владикавказ              550           0.0   \n",
       "3210        1848.0  smart        Пермь              550           0.0   \n",
       "3211       17809.0  smart        Пермь              550           0.0   \n",
       "3212       17984.0  smart        Пермь              550         112.0   \n",
       "3213       13077.0  smart        Пермь              550           0.0   \n",
       "\n",
       "      СМС сверх  Мб сверх  Доплата, руб.  \n",
       "3204        0.0       0.0            0.0  \n",
       "3205        0.0    4580.0          895.0  \n",
       "3206        0.0       0.0            0.0  \n",
       "3207       12.0    8910.0         1741.0  \n",
       "3208        0.0    6806.0         1330.0  \n",
       "3209        0.0    5244.0         1025.0  \n",
       "3210        0.0       0.0            0.0  \n",
       "3211        0.0    2449.0          479.0  \n",
       "3212        9.0    2624.0          513.0  \n",
       "3213       16.0       0.0            0.0  "
      ]
     },
     "execution_count": 52,
     "metadata": {},
     "output_type": "execute_result"
    }
   ],
   "source": [
    "full_df['Доплата, руб.'] = full_df.apply(month_sum_over, axis=1)\n",
    "full_df.tail(10) #проверим"
   ]
  },
  {
   "cell_type": "markdown",
   "metadata": {},
   "source": [
    "Немного подправим тип данных:"
   ]
  },
  {
   "cell_type": "code",
   "execution_count": 53,
   "metadata": {},
   "outputs": [],
   "source": [
    "for column in ['Минуты сверх', 'Мб сверх']:\n",
    "    full_df[column] = full_df[column].astype('float')\n",
    "\n",
    "for column in ['СМС сверх', 'Доплата, руб.', 'СМС, шт.', 'Кол-во звонков, шт.']:\n",
    "    full_df[column] = full_df[column].astype('int')"
   ]
  },
  {
   "cell_type": "code",
   "execution_count": 54,
   "metadata": {},
   "outputs": [
    {
     "name": "stdout",
     "output_type": "stream",
     "text": [
      "<class 'pandas.core.frame.DataFrame'>\n",
      "RangeIndex: 3214 entries, 0 to 3213\n",
      "Data columns (total 13 columns):\n",
      "User_id                3214 non-null int64\n",
      "Месяц                  3214 non-null int64\n",
      "Кол-во звонков, шт.    3214 non-null int64\n",
      "Звонки, мин.           3214 non-null float64\n",
      "СМС, шт.               3214 non-null int64\n",
      "Интернет, Мб           3214 non-null float64\n",
      "Тариф                  3214 non-null object\n",
      "Город                  3214 non-null object\n",
      "Аб. плата, руб.        3214 non-null int64\n",
      "Минуты сверх           3214 non-null float64\n",
      "СМС сверх              3214 non-null int64\n",
      "Мб сверх               3214 non-null float64\n",
      "Доплата, руб.          3214 non-null int64\n",
      "dtypes: float64(4), int64(7), object(2)\n",
      "memory usage: 326.5+ KB\n"
     ]
    }
   ],
   "source": [
    "full_df.info() #посмотрим"
   ]
  },
  {
   "cell_type": "markdown",
   "metadata": {},
   "source": [
    "**2.5 Анализ данных по доплатам**"
   ]
  },
  {
   "cell_type": "markdown",
   "metadata": {},
   "source": [
    "Сложим столбцы абонентская плата и доплата"
   ]
  },
  {
   "cell_type": "code",
   "execution_count": 55,
   "metadata": {},
   "outputs": [
    {
     "data": {
      "text/html": [
       "<div>\n",
       "<style scoped>\n",
       "    .dataframe tbody tr th:only-of-type {\n",
       "        vertical-align: middle;\n",
       "    }\n",
       "\n",
       "    .dataframe tbody tr th {\n",
       "        vertical-align: top;\n",
       "    }\n",
       "\n",
       "    .dataframe thead th {\n",
       "        text-align: right;\n",
       "    }\n",
       "</style>\n",
       "<table border=\"1\" class=\"dataframe\">\n",
       "  <thead>\n",
       "    <tr style=\"text-align: right;\">\n",
       "      <th></th>\n",
       "      <th>User_id</th>\n",
       "      <th>Месяц</th>\n",
       "      <th>Кол-во звонков, шт.</th>\n",
       "      <th>Звонки, мин.</th>\n",
       "      <th>СМС, шт.</th>\n",
       "      <th>Интернет, Мб</th>\n",
       "      <th>Тариф</th>\n",
       "      <th>Город</th>\n",
       "      <th>Аб. плата, руб.</th>\n",
       "      <th>Минуты сверх</th>\n",
       "      <th>СМС сверх</th>\n",
       "      <th>Мб сверх</th>\n",
       "      <th>Доплата, руб.</th>\n",
       "      <th>Итоговая сумма, руб.</th>\n",
       "    </tr>\n",
       "  </thead>\n",
       "  <tbody>\n",
       "    <tr>\n",
       "      <td>3204</td>\n",
       "      <td>1497</td>\n",
       "      <td>11</td>\n",
       "      <td>48</td>\n",
       "      <td>371.0</td>\n",
       "      <td>14</td>\n",
       "      <td>14174.0</td>\n",
       "      <td>smart</td>\n",
       "      <td>Челябинск</td>\n",
       "      <td>550</td>\n",
       "      <td>0.0</td>\n",
       "      <td>0</td>\n",
       "      <td>0.0</td>\n",
       "      <td>0</td>\n",
       "      <td>550</td>\n",
       "    </tr>\n",
       "    <tr>\n",
       "      <td>3205</td>\n",
       "      <td>1497</td>\n",
       "      <td>12</td>\n",
       "      <td>58</td>\n",
       "      <td>545.0</td>\n",
       "      <td>17</td>\n",
       "      <td>19940.0</td>\n",
       "      <td>smart</td>\n",
       "      <td>Челябинск</td>\n",
       "      <td>550</td>\n",
       "      <td>45.0</td>\n",
       "      <td>0</td>\n",
       "      <td>4580.0</td>\n",
       "      <td>895</td>\n",
       "      <td>1445</td>\n",
       "    </tr>\n",
       "    <tr>\n",
       "      <td>3206</td>\n",
       "      <td>1498</td>\n",
       "      <td>7</td>\n",
       "      <td>20</td>\n",
       "      <td>175.0</td>\n",
       "      <td>20</td>\n",
       "      <td>7486.0</td>\n",
       "      <td>smart</td>\n",
       "      <td>Владикавказ</td>\n",
       "      <td>550</td>\n",
       "      <td>0.0</td>\n",
       "      <td>0</td>\n",
       "      <td>0.0</td>\n",
       "      <td>0</td>\n",
       "      <td>550</td>\n",
       "    </tr>\n",
       "    <tr>\n",
       "      <td>3207</td>\n",
       "      <td>1498</td>\n",
       "      <td>8</td>\n",
       "      <td>43</td>\n",
       "      <td>400.0</td>\n",
       "      <td>62</td>\n",
       "      <td>24270.0</td>\n",
       "      <td>smart</td>\n",
       "      <td>Владикавказ</td>\n",
       "      <td>550</td>\n",
       "      <td>0.0</td>\n",
       "      <td>12</td>\n",
       "      <td>8910.0</td>\n",
       "      <td>1741</td>\n",
       "      <td>2291</td>\n",
       "    </tr>\n",
       "    <tr>\n",
       "      <td>3208</td>\n",
       "      <td>1498</td>\n",
       "      <td>9</td>\n",
       "      <td>53</td>\n",
       "      <td>471.0</td>\n",
       "      <td>44</td>\n",
       "      <td>22166.0</td>\n",
       "      <td>smart</td>\n",
       "      <td>Владикавказ</td>\n",
       "      <td>550</td>\n",
       "      <td>0.0</td>\n",
       "      <td>0</td>\n",
       "      <td>6806.0</td>\n",
       "      <td>1330</td>\n",
       "      <td>1880</td>\n",
       "    </tr>\n",
       "    <tr>\n",
       "      <td>3209</td>\n",
       "      <td>1498</td>\n",
       "      <td>10</td>\n",
       "      <td>30</td>\n",
       "      <td>247.0</td>\n",
       "      <td>42</td>\n",
       "      <td>20604.0</td>\n",
       "      <td>smart</td>\n",
       "      <td>Владикавказ</td>\n",
       "      <td>550</td>\n",
       "      <td>0.0</td>\n",
       "      <td>0</td>\n",
       "      <td>5244.0</td>\n",
       "      <td>1025</td>\n",
       "      <td>1575</td>\n",
       "    </tr>\n",
       "    <tr>\n",
       "      <td>3210</td>\n",
       "      <td>1499</td>\n",
       "      <td>9</td>\n",
       "      <td>8</td>\n",
       "      <td>70.0</td>\n",
       "      <td>11</td>\n",
       "      <td>1848.0</td>\n",
       "      <td>smart</td>\n",
       "      <td>Пермь</td>\n",
       "      <td>550</td>\n",
       "      <td>0.0</td>\n",
       "      <td>0</td>\n",
       "      <td>0.0</td>\n",
       "      <td>0</td>\n",
       "      <td>550</td>\n",
       "    </tr>\n",
       "    <tr>\n",
       "      <td>3211</td>\n",
       "      <td>1499</td>\n",
       "      <td>10</td>\n",
       "      <td>44</td>\n",
       "      <td>449.0</td>\n",
       "      <td>48</td>\n",
       "      <td>17809.0</td>\n",
       "      <td>smart</td>\n",
       "      <td>Пермь</td>\n",
       "      <td>550</td>\n",
       "      <td>0.0</td>\n",
       "      <td>0</td>\n",
       "      <td>2449.0</td>\n",
       "      <td>479</td>\n",
       "      <td>1029</td>\n",
       "    </tr>\n",
       "    <tr>\n",
       "      <td>3212</td>\n",
       "      <td>1499</td>\n",
       "      <td>11</td>\n",
       "      <td>62</td>\n",
       "      <td>612.0</td>\n",
       "      <td>59</td>\n",
       "      <td>17984.0</td>\n",
       "      <td>smart</td>\n",
       "      <td>Пермь</td>\n",
       "      <td>550</td>\n",
       "      <td>112.0</td>\n",
       "      <td>9</td>\n",
       "      <td>2624.0</td>\n",
       "      <td>513</td>\n",
       "      <td>1063</td>\n",
       "    </tr>\n",
       "    <tr>\n",
       "      <td>3213</td>\n",
       "      <td>1499</td>\n",
       "      <td>12</td>\n",
       "      <td>56</td>\n",
       "      <td>492.0</td>\n",
       "      <td>66</td>\n",
       "      <td>13077.0</td>\n",
       "      <td>smart</td>\n",
       "      <td>Пермь</td>\n",
       "      <td>550</td>\n",
       "      <td>0.0</td>\n",
       "      <td>16</td>\n",
       "      <td>0.0</td>\n",
       "      <td>0</td>\n",
       "      <td>550</td>\n",
       "    </tr>\n",
       "  </tbody>\n",
       "</table>\n",
       "</div>"
      ],
      "text/plain": [
       "      User_id  Месяц  Кол-во звонков, шт.  Звонки, мин.  СМС, шт.  \\\n",
       "3204     1497     11                   48         371.0        14   \n",
       "3205     1497     12                   58         545.0        17   \n",
       "3206     1498      7                   20         175.0        20   \n",
       "3207     1498      8                   43         400.0        62   \n",
       "3208     1498      9                   53         471.0        44   \n",
       "3209     1498     10                   30         247.0        42   \n",
       "3210     1499      9                    8          70.0        11   \n",
       "3211     1499     10                   44         449.0        48   \n",
       "3212     1499     11                   62         612.0        59   \n",
       "3213     1499     12                   56         492.0        66   \n",
       "\n",
       "      Интернет, Мб  Тариф        Город  Аб. плата, руб.  Минуты сверх  \\\n",
       "3204       14174.0  smart    Челябинск              550           0.0   \n",
       "3205       19940.0  smart    Челябинск              550          45.0   \n",
       "3206        7486.0  smart  Владикавказ              550           0.0   \n",
       "3207       24270.0  smart  Владикавказ              550           0.0   \n",
       "3208       22166.0  smart  Владикавказ              550           0.0   \n",
       "3209       20604.0  smart  Владикавказ              550           0.0   \n",
       "3210        1848.0  smart        Пермь              550           0.0   \n",
       "3211       17809.0  smart        Пермь              550           0.0   \n",
       "3212       17984.0  smart        Пермь              550         112.0   \n",
       "3213       13077.0  smart        Пермь              550           0.0   \n",
       "\n",
       "      СМС сверх  Мб сверх  Доплата, руб.  Итоговая сумма, руб.  \n",
       "3204          0       0.0              0                   550  \n",
       "3205          0    4580.0            895                  1445  \n",
       "3206          0       0.0              0                   550  \n",
       "3207         12    8910.0           1741                  2291  \n",
       "3208          0    6806.0           1330                  1880  \n",
       "3209          0    5244.0           1025                  1575  \n",
       "3210          0       0.0              0                   550  \n",
       "3211          0    2449.0            479                  1029  \n",
       "3212          9    2624.0            513                  1063  \n",
       "3213         16       0.0              0                   550  "
      ]
     },
     "execution_count": 55,
     "metadata": {},
     "output_type": "execute_result"
    }
   ],
   "source": [
    "full_df['Итоговая сумма, руб.'] = full_df['Доплата, руб.'] + full_df['Аб. плата, руб.']\n",
    "full_df.tail(10) #посмотри на результат"
   ]
  },
  {
   "cell_type": "markdown",
   "metadata": {},
   "source": [
    "Из таблицы видно, что часть клиентов превышает лимиты"
   ]
  },
  {
   "cell_type": "markdown",
   "metadata": {},
   "source": [
    "Посмотрим, какой процент клиентов переплачивает в зависимости от тарифа. Запишем наши данные в новый датафрейм"
   ]
  },
  {
   "cell_type": "code",
   "execution_count": 56,
   "metadata": {},
   "outputs": [
    {
     "data": {
      "text/html": [
       "<div>\n",
       "<style scoped>\n",
       "    .dataframe tbody tr th:only-of-type {\n",
       "        vertical-align: middle;\n",
       "    }\n",
       "\n",
       "    .dataframe tbody tr th {\n",
       "        vertical-align: top;\n",
       "    }\n",
       "\n",
       "    .dataframe thead th {\n",
       "        text-align: right;\n",
       "    }\n",
       "</style>\n",
       "<table border=\"1\" class=\"dataframe\">\n",
       "  <thead>\n",
       "    <tr style=\"text-align: right;\">\n",
       "      <th></th>\n",
       "      <th>Процент перепалт smart</th>\n",
       "      <th>Процент без переплат smart</th>\n",
       "      <th>Процент перепалт ultra</th>\n",
       "      <th>Процент без переплат ultra</th>\n",
       "    </tr>\n",
       "  </thead>\n",
       "  <tbody>\n",
       "    <tr>\n",
       "      <td>0</td>\n",
       "      <td>58.73</td>\n",
       "      <td>41.27</td>\n",
       "      <td>13.6</td>\n",
       "      <td>86.4</td>\n",
       "    </tr>\n",
       "  </tbody>\n",
       "</table>\n",
       "</div>"
      ],
      "text/plain": [
       "   Процент перепалт smart  Процент без переплат smart  Процент перепалт ultra  \\\n",
       "0                   58.73                       41.27                    13.6   \n",
       "\n",
       "   Процент без переплат ultra  \n",
       "0                        86.4  "
      ]
     },
     "execution_count": 56,
     "metadata": {},
     "output_type": "execute_result"
    }
   ],
   "source": [
    "def percent_frame(df):\n",
    "    sum_smart_extra = (df[(df['Тариф'] == 'smart') & (df['Доплата, руб.'] > 0)].count()['User_id']) \n",
    "    sum_smart_normal =(df[(df['Тариф'] == 'smart') & (df['Доплата, руб.'] == 0)].count()['User_id'])\n",
    "    \n",
    "    sum_ultra_extra = (df[(df['Тариф'] == 'ultra') & (df['Доплата, руб.'] > 0)].count()['User_id']) \n",
    "    sum_ultra_normal = (df[(df['Тариф'] == 'ultra') & (df['Доплата, руб.'] == 0)].count()['User_id'])\n",
    "    \n",
    "    percent_smart_extra = (sum_smart_extra / (sum_smart_extra + sum_smart_normal)) * 100\n",
    "    percent_smart_normal = (sum_smart_normal / (sum_smart_extra + sum_smart_normal)) * 100\n",
    "    \n",
    "    percent_ultra_extra = (sum_ultra_extra / (sum_ultra_extra + sum_ultra_normal)) * 100\n",
    "    percent_ultra_normal = (sum_ultra_normal / (sum_ultra_extra + sum_ultra_normal)) * 100\n",
    "    \n",
    "    extraframe = {'Процент перепалт smart': percent_smart_extra, 'Процент без переплат smart': percent_smart_normal, \n",
    "                  'Процент перепалт ultra': percent_ultra_extra, 'Процент без переплат ultra': percent_ultra_normal }\n",
    "    dataframe = pd.DataFrame(extraframe, index=[0]).sort_values(by = 'Процент перепалт smart', ascending = 'False').round(2)\n",
    "    return dataframe\n",
    "\n",
    "percent_frame(full_df)"
   ]
  },
  {
   "cell_type": "markdown",
   "metadata": {},
   "source": [
    "Как видим из таблицы 58,7% пользователей тарифа smart вынуждены переплачивать. Пользователи ultra - всего лишь 13.6%"
   ]
  },
  {
   "cell_type": "markdown",
   "metadata": {},
   "source": [
    "Построим гистограмму по переплатам"
   ]
  },
  {
   "cell_type": "code",
   "execution_count": 57,
   "metadata": {},
   "outputs": [
    {
     "data": {
      "image/png": "[encoded data removed]",
      "text/plain": [
       "<Figure size 720x360 with 1 Axes>"
      ]
     },
     "metadata": {
      "needs_background": "light"
     },
     "output_type": "display_data"
    }
   ],
   "source": [
    "fig, ax = plt.subplots()\n",
    "ax.set_title('Гистограмма переплат, тариф smart, 2018')\n",
    "ax.set_xlabel('Рубли')\n",
    "full_df[(full_df['Тариф'] == 'smart') & (full_df['Доплата, руб.'] > 0)]['Доплата, руб.'].plot(kind='hist', \n",
    "ec='black', bins = 50, range =(0,5000), grid = False, figsize = (10,5), color ='darkkhaki');"
   ]
  },
  {
   "cell_type": "markdown",
   "metadata": {},
   "source": [
    "При абонентской плате в 550 рублей основная масса переплат до 1200р. Чуть больше, чем в 2 раза. Это явно перебор. Приблизим"
   ]
  },
  {
   "cell_type": "code",
   "execution_count": 58,
   "metadata": {},
   "outputs": [
    {
     "data": {
      "image/png": "[encoded data removed]",
      "text/plain": [
       "<Figure size 720x360 with 1 Axes>"
      ]
     },
     "metadata": {
      "needs_background": "light"
     },
     "output_type": "display_data"
    }
   ],
   "source": [
    "fig, ax = plt.subplots()\n",
    "ax.set_title('Гистограмма переплат, тариф smart, 2018')\n",
    "ax.set_xlabel('Рубли')\n",
    "full_df[(full_df['Тариф'] == 'smart') & (full_df['Доплата, руб.'] > 0) & (full_df['Доплата, руб.'] < 1000)]['Доплата, руб.'].plot(kind='hist', \n",
    "ec='black', bins = 50, range =(0,1000), grid = False, figsize = (10,5), color ='darkkhaki');"
   ]
  },
  {
   "cell_type": "markdown",
   "metadata": {},
   "source": [
    "Видны пики в районе 250, 400 и 600 рублей. 200, 400 и 600р - похоже на дозаказ интернета по 1Гб. 250р на интернет + некоторая доля смс или звонков. \n"
   ]
  },
  {
   "cell_type": "markdown",
   "metadata": {},
   "source": [
    "Построим аналогичные графики для тарифа ultra"
   ]
  },
  {
   "cell_type": "code",
   "execution_count": 59,
   "metadata": {},
   "outputs": [
    {
     "data": {
      "image/png": "[encoded data removed]",
      "text/plain": [
       "<Figure size 720x360 with 1 Axes>"
      ]
     },
     "metadata": {
      "needs_background": "light"
     },
     "output_type": "display_data"
    }
   ],
   "source": [
    "fig, ax = plt.subplots()\n",
    "ax.set_title('Гистограмма переплат, тариф ultra, 2018')\n",
    "ax.set_xlabel('Рубли')\n",
    "full_df[(full_df['Тариф'] == 'ultra') & (full_df['Доплата, руб.'] > 0)]['Доплата, руб.'].plot(kind='hist', \n",
    "ec='black', bins = 50, range =(0,3000), grid = False, figsize = (10,5), color ='tomato');"
   ]
  },
  {
   "cell_type": "markdown",
   "metadata": {},
   "source": [
    "Основная часть переплат - в районе 250 рублей."
   ]
  },
  {
   "cell_type": "code",
   "execution_count": 60,
   "metadata": {},
   "outputs": [
    {
     "data": {
      "image/png": "[encoded data removed]",
      "text/plain": [
       "<Figure size 720x360 with 1 Axes>"
      ]
     },
     "metadata": {
      "needs_background": "light"
     },
     "output_type": "display_data"
    }
   ],
   "source": [
    "fig, ax = plt.subplots()\n",
    "ax.set_title('Гистограмма переплат, тариф ultra, 2018')\n",
    "ax.set_xlabel('Рубли')\n",
    "full_df[(full_df['Тариф'] == 'ultra') & (full_df['Доплата, руб.'] > 0) & (full_df['Доплата, руб.'] < 1500)]['Доплата, руб.'].plot(kind='hist', \n",
    "ec='black', bins = 50, range =(0,1500), grid = False, figsize = (10,5), color ='tomato');"
   ]
  },
  {
   "cell_type": "markdown",
   "metadata": {},
   "source": [
    "**2.6 Дозаказ услуг**"
   ]
  },
  {
   "cell_type": "markdown",
   "metadata": {},
   "source": [
    "Посмотрим, какие услуги по тарифам заказывают чаще всего. Сведём данные в датафрейм"
   ]
  },
  {
   "cell_type": "code",
   "execution_count": 61,
   "metadata": {},
   "outputs": [
    {
     "data": {
      "text/html": [
       "<div>\n",
       "<style scoped>\n",
       "    .dataframe tbody tr th:only-of-type {\n",
       "        vertical-align: middle;\n",
       "    }\n",
       "\n",
       "    .dataframe tbody tr th {\n",
       "        vertical-align: top;\n",
       "    }\n",
       "\n",
       "    .dataframe thead th {\n",
       "        text-align: right;\n",
       "    }\n",
       "</style>\n",
       "<table border=\"1\" class=\"dataframe\">\n",
       "  <thead>\n",
       "    <tr style=\"text-align: right;\">\n",
       "      <th></th>\n",
       "      <th>Минуты сверх</th>\n",
       "      <th>СМС сверх</th>\n",
       "      <th>Мб сверх</th>\n",
       "    </tr>\n",
       "    <tr>\n",
       "      <th>Тариф</th>\n",
       "      <th></th>\n",
       "      <th></th>\n",
       "      <th></th>\n",
       "    </tr>\n",
       "  </thead>\n",
       "  <tbody>\n",
       "    <tr>\n",
       "      <td>smart</td>\n",
       "      <td>92739.0</td>\n",
       "      <td>12928</td>\n",
       "      <td>6175667.0</td>\n",
       "    </tr>\n",
       "    <tr>\n",
       "      <td>ultra</td>\n",
       "      <td>0.0</td>\n",
       "      <td>0</td>\n",
       "      <td>743233.0</td>\n",
       "    </tr>\n",
       "  </tbody>\n",
       "</table>\n",
       "</div>"
      ],
      "text/plain": [
       "       Минуты сверх  СМС сверх   Мб сверх\n",
       "Тариф                                    \n",
       "smart       92739.0      12928  6175667.0\n",
       "ultra           0.0          0   743233.0"
      ]
     },
     "execution_count": 61,
     "metadata": {},
     "output_type": "execute_result"
    }
   ],
   "source": [
    "full_df.groupby('Тариф').sum()[['Минуты сверх', 'СМС сверх', 'Мб сверх']]"
   ]
  },
  {
   "cell_type": "markdown",
   "metadata": {},
   "source": [
    "На тарифе ultra дозаказывают только интернет. На смарте же не хватает всех типов услуг."
   ]
  },
  {
   "cell_type": "markdown",
   "metadata": {},
   "source": [
    "**2.7 Оценка выручки**"
   ]
  },
  {
   "cell_type": "markdown",
   "metadata": {},
   "source": [
    "Для оценки прибыльности воспользуемся функцией, написанной выше."
   ]
  },
  {
   "cell_type": "code",
   "execution_count": 62,
   "metadata": {
    "scrolled": true
   },
   "outputs": [
    {
     "data": {
      "text/html": [
       "<div>\n",
       "<style scoped>\n",
       "    .dataframe tbody tr th:only-of-type {\n",
       "        vertical-align: middle;\n",
       "    }\n",
       "\n",
       "    .dataframe tbody tr th {\n",
       "        vertical-align: top;\n",
       "    }\n",
       "\n",
       "    .dataframe thead th {\n",
       "        text-align: right;\n",
       "    }\n",
       "</style>\n",
       "<table border=\"1\" class=\"dataframe\">\n",
       "  <thead>\n",
       "    <tr style=\"text-align: right;\">\n",
       "      <th></th>\n",
       "      <th>Процент</th>\n",
       "    </tr>\n",
       "    <tr>\n",
       "      <th>Тариф</th>\n",
       "      <th></th>\n",
       "    </tr>\n",
       "  </thead>\n",
       "  <tbody>\n",
       "    <tr>\n",
       "      <td>smart</td>\n",
       "      <td>54.52</td>\n",
       "    </tr>\n",
       "    <tr>\n",
       "      <td>ultra</td>\n",
       "      <td>45.48</td>\n",
       "    </tr>\n",
       "  </tbody>\n",
       "</table>\n",
       "</div>"
      ],
      "text/plain": [
       "       Процент\n",
       "Тариф         \n",
       "smart    54.52\n",
       "ultra    45.48"
      ]
     },
     "execution_count": 62,
     "metadata": {},
     "output_type": "execute_result"
    }
   ],
   "source": [
    "connection_percent(full_df, 'Итоговая сумма, руб.')"
   ]
  },
  {
   "cell_type": "markdown",
   "metadata": {},
   "source": [
    "Как итог тариф smart приности больше прибыли"
   ]
  },
  {
   "cell_type": "markdown",
   "metadata": {},
   "source": [
    "**Шаг 3. Проанализируем данные**"
   ]
  },
  {
   "cell_type": "markdown",
   "metadata": {},
   "source": [
    "Опишим поведение клиентов оператора, исходя из выборки. Сколько минут разговора, сколько сообщений и какой объём интернет-трафика требуется пользователям каждого тарифа в месяц? Посчитаем среднее количество, дисперсию и стандартное отклонение. Построим гистограммыи и опишем распределения."
   ]
  },
  {
   "cell_type": "markdown",
   "metadata": {},
   "source": [
    "Построим boxplot'ы по интересущим нас данным (смс, звонки, интернет):"
   ]
  },
  {
   "cell_type": "code",
   "execution_count": 63,
   "metadata": {},
   "outputs": [
    {
     "data": {
      "image/png": "[encoded data removed]",
      "text/plain": [
       "<Figure size 1800x900 with 1 Axes>"
      ]
     },
     "metadata": {
      "needs_background": "light"
     },
     "output_type": "display_data"
    }
   ],
   "source": [
    "full_df.boxplot('СМС, шт.', by = 'Тариф', figsize = (25,12.5));"
   ]
  },
  {
   "cell_type": "code",
   "execution_count": 64,
   "metadata": {},
   "outputs": [
    {
     "data": {
      "image/png": "[encoded data removed]",
      "text/plain": [
       "<Figure size 1800x900 with 1 Axes>"
      ]
     },
     "metadata": {
      "needs_background": "light"
     },
     "output_type": "display_data"
    }
   ],
   "source": [
    "full_df.boxplot('Звонки, мин.', by = 'Тариф', figsize = (25,12.5));"
   ]
  },
  {
   "cell_type": "code",
   "execution_count": 65,
   "metadata": {},
   "outputs": [
    {
     "data": {
      "image/png": "[encoded data removed]",
      "text/plain": [
       "<Figure size 1800x900 with 1 Axes>"
      ]
     },
     "metadata": {
      "needs_background": "light"
     },
     "output_type": "display_data"
    }
   ],
   "source": [
    "full_df.boxplot('Интернет, Мб', by = 'Тариф',figsize = (25,12.5) );"
   ]
  },
  {
   "cell_type": "markdown",
   "metadata": {},
   "source": [
    "**3.1 Определим интервалы**"
   ]
  },
  {
   "cell_type": "markdown",
   "metadata": {},
   "source": [
    "Напишем функцию для этих целей:"
   ]
  },
  {
   "cell_type": "code",
   "execution_count": 66,
   "metadata": {},
   "outputs": [],
   "source": [
    "def intervals(column, data_filter):\n",
    "    data_filter == 'Тариф'\n",
    "    data1, data2 = 'smart', 'ultra'\n",
    "    format_end1 = 'тарифа smart'\n",
    "    format_end2 = 'тарифа \"ultra\"'\n",
    "    \n",
    "    q1_1 = full_df[full_df[data_filter] == data1][column].quantile(0.25)\n",
    "    q3_1 = full_df[full_df[data_filter] == data1][column].quantile(0.75)\n",
    "    diff_1 = q3_1 - q1_1\n",
    "    \n",
    "    left_int_1 = np.where((q1_1 - 1.5 * diff_1) > 0, q1_1 - 1.5 * diff_1, 0)\n",
    "    right_int_1 = np.where((q3_1 + 1.5 * diff_1) > 0, q3_1 + 1.5 * diff_1, 0)\n",
    "    \n",
    "    q1_2 = full_df[full_df[data_filter] == data2][column].quantile(0.25)\n",
    "    q3_2 = full_df[full_df[data_filter] == data2][column].quantile(0.75)\n",
    "    diff_2 = q3_2 - q1_2\n",
    "    \n",
    "    left_int_2 = np.where((q1_2 - 1.5 * diff_2) > 0, q1_2 - 1.5 * diff_2, 0)\n",
    "    right_int_2 = np.where((q3_2 + 1.5 * diff_2) > 0, q3_2 + 1.5 * diff_2, 0)\n",
    "    \n",
    "    print('Интервала для столбца \"{}\" {}: {} - {}'.format(column, format_end1, left_int_1, right_int_1))\n",
    "    print('Интервала для столбца \"{}\" {}: {} - {}'.format(column, format_end2, left_int_2, right_int_2))\n",
    "    \n",
    "    return (left_int_1, right_int_1), (left_int_2, right_int_2)\n",
    "    "
   ]
  },
  {
   "cell_type": "code",
   "execution_count": 67,
   "metadata": {},
   "outputs": [
    {
     "name": "stdout",
     "output_type": "stream",
     "text": [
      "Интервала для столбца \"Звонки, мин.\" тарифа smart: 0.0 - 939.5\n",
      "Интервала для столбца \"Звонки, мин.\" тарифа \"ultra\": 0.0 - 1454.0\n"
     ]
    }
   ],
   "source": [
    "calls_smart_data, calls_ultra_data = intervals('Звонки, мин.', 'Тариф');"
   ]
  },
  {
   "cell_type": "code",
   "execution_count": 68,
   "metadata": {},
   "outputs": [
    {
     "name": "stdout",
     "output_type": "stream",
     "text": [
      "Интервала для столбца \"СМС, шт.\" тарифа smart: 0.0 - 112.5\n",
      "Интервала для столбца \"СМС, шт.\" тарифа \"ultra\": 0.0 - 188.5\n"
     ]
    }
   ],
   "source": [
    "sms_smart_data, sms_ultra_data = intervals('СМС, шт.', 'Тариф');"
   ]
  },
  {
   "cell_type": "code",
   "execution_count": 69,
   "metadata": {},
   "outputs": [
    {
     "name": "stdout",
     "output_type": "stream",
     "text": [
      "Интервала для столбца \"Интернет, Мб\" тарифа smart: 1543.0 - 31183.0\n",
      "Интервала для столбца \"Интернет, Мб\" тарифа \"ultra\": 0.0 - 49480.0\n"
     ]
    }
   ],
   "source": [
    "traffic_smart_data, traffic_ultra_data = intervals('Интернет, Мб', 'Тариф');"
   ]
  },
  {
   "cell_type": "markdown",
   "metadata": {},
   "source": [
    "**3.2 Гистограммы длительности звонков, смс, траффика**"
   ]
  },
  {
   "cell_type": "markdown",
   "metadata": {},
   "source": [
    "Построим гистограмму для интересующих нас типов связи, найдем среднее медиану, дисперсию и стандартное отклонение:"
   ]
  },
  {
   "cell_type": "markdown",
   "metadata": {},
   "source": [
    "Начнём со звонков:"
   ]
  },
  {
   "cell_type": "code",
   "execution_count": 70,
   "metadata": {},
   "outputs": [
    {
     "name": "stdout",
     "output_type": "stream",
     "text": [
      "Среднее тарифа smart по звонкам: 417.93\n",
      "Среднее тарифа ultra по звонкам: 526.62\n",
      "Дисперсия тарифа smart по звонкам: 36219.32\n",
      "Дисперсия тарифа ultra по звонкам: 100873.63\n",
      "стандартное отклонение тарифа smart по звонкам: 190.31\n",
      "стандартное отклонение тарифа ultra по звонкам: 317.61\n"
     ]
    }
   ],
   "source": [
    "calls_smart_data = full_df[(full_df['Тариф'] == 'smart')]['Звонки, мин.']\n",
    "calls_ultra_data = full_df[(full_df['Тариф'] == 'ultra')]['Звонки, мин.']\n",
    "\n",
    "mean_calls_smart = calls_smart_data.mean().round(2)\n",
    "mean_calls_ultra = calls_ultra_data.mean().round(2)\n",
    "\n",
    "dispersion_calls_smart = calls_smart_data.var().round(2)\n",
    "dispersion_calls_ultra = calls_ultra_data.var().round(2)\n",
    "\n",
    "std_calls_smart = calls_smart_data.std().round(2)\n",
    "std_calls_ultra = calls_ultra_data.std().round(2)\n",
    "\n",
    "print('Среднее тарифа smart по звонкам:', mean_calls_smart )\n",
    "print('Среднее тарифа ultra по звонкам:', mean_calls_ultra )\n",
    "\n",
    "print('Дисперсия тарифа smart по звонкам:', dispersion_calls_smart )\n",
    "print('Дисперсия тарифа ultra по звонкам:', dispersion_calls_ultra )\n",
    "\n",
    "print('стандартное отклонение тарифа smart по звонкам:', std_calls_smart )\n",
    "print('стандартное отклонение тарифа ultra по звонкам:', std_calls_ultra )"
   ]
  },
  {
   "cell_type": "code",
   "execution_count": 71,
   "metadata": {},
   "outputs": [
    {
     "data": {
      "image/png": "[encoded data removed]",
      "text/plain": [
       "<Figure size 864x432 with 1 Axes>"
      ]
     },
     "metadata": {
      "needs_background": "light"
     },
     "output_type": "display_data"
    }
   ],
   "source": [
    "ax = plt.gca()\n",
    "\n",
    "ax.set_xlabel('Звонки, мин')\n",
    "ax.set_title('Длительность звонков, 2018')\n",
    "\n",
    "calls_smart_data.plot(kind='hist', bins=50, figsize=(12,6), ec='black', ax=ax, color='darkolivegreen');\n",
    "calls_ultra_data.plot(kind='hist', bins=50, figsize=(12,6), ec='black', ax=ax, color='lightcoral', alpha = 0.7);\n",
    "\n",
    "plt.axvline(x=calls_smart_data.median(),linewidth=3, color='lime', linestyle='--'); #добавим медианы на график\n",
    "plt.axvline(x=calls_ultra_data.median(),linewidth=3, color='red', linestyle='--'); #добавим медианы на график\n",
    "plt.legend(['smart median', 'ultra median', 'smart', 'ultra']);"
   ]
  },
  {
   "cell_type": "markdown",
   "metadata": {},
   "source": [
    "Медиана тарифа ultra больше, но видно, что тариф ultra используют в основном для интренета. По тарифу smart разговаривают больше. Медиана тарифа смарт близка к лимитному значению в 500 минут."
   ]
  },
  {
   "cell_type": "markdown",
   "metadata": {},
   "source": [
    "Посмотрим на СМС:"
   ]
  },
  {
   "cell_type": "code",
   "execution_count": 72,
   "metadata": {},
   "outputs": [
    {
     "name": "stdout",
     "output_type": "stream",
     "text": [
      "Среднее тарифа smart по CМС: 33.38\n",
      "Среднее тарифа ultra по СМС: 49.36\n",
      "Дисперсия тарифа smart по СМС: 796.81\n",
      "Дисперсия тарифа ultra по СМС: 2285.27\n",
      "стандартное отклонение тарифа smart по СМС: 28.23\n",
      "стандартное отклонение тарифа ultra по СМС: 47.8\n"
     ]
    }
   ],
   "source": [
    "sms_smart_data = full_df[(full_df['Тариф'] == 'smart')]['СМС, шт.']\n",
    "sms_ultra_data = full_df[(full_df['Тариф'] == 'ultra')]['СМС, шт.']\n",
    "\n",
    "mean_sms_smart = sms_smart_data.mean().round(2)\n",
    "mean_sms_ultra = sms_ultra_data.mean().round(2)\n",
    "\n",
    "dispersion_sms_smart = sms_smart_data.var().round(2)\n",
    "dispersion_sms_ultra = sms_ultra_data.var().round(2)\n",
    "\n",
    "std_sms_smart = sms_smart_data.std().round(2)\n",
    "std_sms_ultra = sms_ultra_data.std().round(2)\n",
    "\n",
    "print('Среднее тарифа smart по CМС:', mean_sms_smart )\n",
    "print('Среднее тарифа ultra по СМС:', mean_sms_ultra )\n",
    "\n",
    "print('Дисперсия тарифа smart по СМС:', dispersion_sms_smart )\n",
    "print('Дисперсия тарифа ultra по СМС:', dispersion_sms_ultra )\n",
    "\n",
    "print('стандартное отклонение тарифа smart по СМС:', std_sms_smart )\n",
    "print('стандартное отклонение тарифа ultra по СМС:', std_sms_ultra )"
   ]
  },
  {
   "cell_type": "code",
   "execution_count": 73,
   "metadata": {},
   "outputs": [
    {
     "data": {
      "image/png": "[encoded data removed]",
      "text/plain": [
       "<Figure size 864x432 with 1 Axes>"
      ]
     },
     "metadata": {
      "needs_background": "light"
     },
     "output_type": "display_data"
    }
   ],
   "source": [
    "ax = plt.gca()\n",
    "\n",
    "ax.set_xlabel('СМС, шт')\n",
    "ax.set_title('Количество СМС, 2018')\n",
    "\n",
    "sms_smart_data.plot(kind='hist', bins=50, figsize=(12,6), ec='black', ax=ax, color='darkolivegreen', alpha = 1);\n",
    "sms_ultra_data.plot(kind='hist', bins=50, figsize=(12,6), ec='black', ax=ax, color='lightcoral', alpha = 0.7);\n",
    "\n",
    "plt.axvline(x=sms_smart_data.median(),linewidth=3, color='lime', linestyle='--'); #добавим медианы на график\n",
    "plt.axvline(x=sms_ultra_data.median(),linewidth=3, color='red', linestyle='--'); #добавим медианы на график\n",
    "plt.legend(['smart median', 'ultra median', 'smart', 'ultra']);"
   ]
  },
  {
   "cell_type": "markdown",
   "metadata": {},
   "source": [
    "Можно сказать, что пользователи обоих тарифов не отправляют смс часто. Медианы обоих тарифов не выходят за лимиты."
   ]
  },
  {
   "cell_type": "markdown",
   "metadata": {},
   "source": [
    "Посмотрим на траффик:"
   ]
  },
  {
   "cell_type": "code",
   "execution_count": 74,
   "metadata": {},
   "outputs": [
    {
     "name": "stdout",
     "output_type": "stream",
     "text": [
      "Среднее тарифа smart по траффику: 16229.19\n",
      "Среднее тарифа ultra по траффику: 19486.9\n",
      "Дисперсия тарифа smart по траффику: 34545911.13\n",
      "Дисперсия тарифа ultra по траффику: 101935621.05\n",
      "стандартное отклонение тарифа smart по траффику: 5877.58\n",
      "стандартное отклонение тарифа ultra по траффику: 10096.32\n"
     ]
    }
   ],
   "source": [
    "traffic_smart_data = full_df[(full_df['Тариф'] == 'smart')]['Интернет, Мб']\n",
    "traffic_ultra_data = full_df[(full_df['Тариф'] == 'ultra')]['Интернет, Мб']\n",
    "\n",
    "mean_traffic_smart = traffic_smart_data.mean().round(2)\n",
    "mean_traffic_ultra = traffic_ultra_data.mean().round(2)\n",
    "\n",
    "dispersion_traffic_smart = traffic_smart_data.var().round(2)\n",
    "dispersion_traffic_ultra = traffic_ultra_data.var().round(2)\n",
    "\n",
    "std_traffic_smart = traffic_smart_data.std().round(2)\n",
    "std_traffic_ultra = traffic_ultra_data.std().round(2)\n",
    "\n",
    "print('Среднее тарифа smart по траффику:', mean_traffic_smart )\n",
    "print('Среднее тарифа ultra по траффику:', mean_traffic_ultra )\n",
    "\n",
    "print('Дисперсия тарифа smart по траффику:', dispersion_traffic_smart )\n",
    "print('Дисперсия тарифа ultra по траффику:', dispersion_traffic_ultra )\n",
    "\n",
    "print('стандартное отклонение тарифа smart по траффику:', std_traffic_smart )\n",
    "print('стандартное отклонение тарифа ultra по траффику:', std_traffic_ultra )"
   ]
  },
  {
   "cell_type": "code",
   "execution_count": 75,
   "metadata": {},
   "outputs": [
    {
     "data": {
      "image/png": "[encoded data removed]",
      "text/plain": [
       "<Figure size 864x432 with 1 Axes>"
      ]
     },
     "metadata": {
      "needs_background": "light"
     },
     "output_type": "display_data"
    }
   ],
   "source": [
    "ax = plt.gca()\n",
    "\n",
    "ax.set_xlabel('Траффик, Мб')\n",
    "ax.set_title('Траффик, Мб, 2018')\n",
    "\n",
    "traffic_smart_data.plot(kind='hist', bins=50, figsize=(12,6), ec='black', ax=ax, color='darkolivegreen', alpha = 1);\n",
    "traffic_ultra_data.plot(kind='hist', bins=50, figsize=(12,6), ec='black', ax=ax, color='lightcoral', alpha = 0.7);\n",
    "\n",
    "plt.axvline(x=traffic_smart_data.median(),linewidth=3, color='lime', linestyle='--'); #добавим медианы на график\n",
    "plt.axvline(x=traffic_ultra_data.median(),linewidth=3, color='red', linestyle='--'); #добавим медианы на график\n",
    "plt.legend(['smart median', 'ultra median', 'smart', 'ultra']);"
   ]
  },
  {
   "cell_type": "markdown",
   "metadata": {},
   "source": [
    "Заметно, что медиана тарифа smart - 16,5 Гб. Это говорит нам о том, что клиентам явно не хватает заложенных в тариф 15 Гб. Медиана же тарифа ultra находится в районе 19 Гб, До лимита в 30 Гб - запас примерно в 30%. Пользователи ultra охотнее используют интернет. Основной объем траффика находится в пределах 15-20 Гб.\n",
    "\n"
   ]
  },
  {
   "cell_type": "markdown",
   "metadata": {},
   "source": [
    "**4 Проверка гипотез**"
   ]
  },
  {
   "cell_type": "markdown",
   "metadata": {},
   "source": [
    "**Н0 - нулевая гипотеза** - Средняя выручка пользователей тарифов smart и ultra не отличаются друг от друга\n",
    "\n",
    "\n",
    "**H1 - не нулевая гипотеза** - Средняя выручка пользователей тарифов smart и ultra отличаются друг от друга"
   ]
  },
  {
   "cell_type": "markdown",
   "metadata": {},
   "source": [
    "**4.1 Проверка Н0**\n",
    "\n",
    "Посмотрим на выбросы тарифов:"
   ]
  },
  {
   "cell_type": "code",
   "execution_count": 76,
   "metadata": {},
   "outputs": [
    {
     "data": {
      "image/png": "[encoded data removed]",
      "text/plain": [
       "<Figure size 1800x900 with 1 Axes>"
      ]
     },
     "metadata": {
      "needs_background": "light"
     },
     "output_type": "display_data"
    }
   ],
   "source": [
    "full_df.boxplot(column='Итоговая сумма, руб.', by='Тариф', figsize = (25,12.5));"
   ]
  },
  {
   "cell_type": "markdown",
   "metadata": {},
   "source": [
    "Найдем интервалы:"
   ]
  },
  {
   "cell_type": "code",
   "execution_count": 77,
   "metadata": {},
   "outputs": [
    {
     "name": "stdout",
     "output_type": "stream",
     "text": [
      "Интервала для столбца \"Итоговая сумма, руб.\" тарифа smart: 0.0 - 2850.0\n",
      "Интервала для столбца \"Итоговая сумма, руб.\" тарифа \"ultra\": 1950.0 - 1950.0\n"
     ]
    }
   ],
   "source": [
    "sum_int_smart, sum_int_ultra = intervals('Итоговая сумма, руб.','Тариф');"
   ]
  },
  {
   "cell_type": "markdown",
   "metadata": {},
   "source": [
    "Найдем среднемесячную выручку тарифов smart и ultra:"
   ]
  },
  {
   "cell_type": "code",
   "execution_count": 78,
   "metadata": {},
   "outputs": [],
   "source": [
    "sum_int_smart = full_df[(full_df['Тариф'] == 'smart') &\n",
    "                                      (full_df['Итоговая сумма, руб.'] >= sum_int_smart[0]) &\n",
    "                                      (full_df['Итоговая сумма, руб.'] <= sum_int_smart[1])]['Итоговая сумма, руб.']\n",
    "sum_int_ultra = full_df[(full_df['Тариф'] == 'ultra') &\n",
    "                                      (full_df['Итоговая сумма, руб.'] >= sum_int_ultra[0]) &\n",
    "                                      (full_df['Итоговая сумма, руб.'] <= sum_int_ultra[1])]['Итоговая сумма, руб.']"
   ]
  },
  {
   "cell_type": "code",
   "execution_count": 79,
   "metadata": {},
   "outputs": [
    {
     "name": "stdout",
     "output_type": "stream",
     "text": [
      "Средняя выручка по пользователям тарифа smart: 1030.31\n",
      "Средняя выручка по пользователям тарифа ultra: 1950.0\n"
     ]
    }
   ],
   "source": [
    "print('Средняя выручка по пользователям тарифа smart: {:.2f}'.format(sum_int_smart.mean()))\n",
    "print('Средняя выручка по пользователям тарифа ultra: {}'.format(sum_int_ultra.mean()))"
   ]
  },
  {
   "cell_type": "markdown",
   "metadata": {},
   "source": [
    "**4.2 Расчёт p-value**\n",
    "\n",
    "\n",
    "Выборки у нас независимые, воспользуемся функцией ttest_ind из модуля scipy.stats:"
   ]
  },
  {
   "cell_type": "code",
   "execution_count": 80,
   "metadata": {},
   "outputs": [],
   "source": [
    "from scipy.stats import ttest_ind"
   ]
  },
  {
   "cell_type": "markdown",
   "metadata": {},
   "source": [
    "Пороговое значение alpha = 0.05"
   ]
  },
  {
   "cell_type": "code",
   "execution_count": 81,
   "metadata": {},
   "outputs": [],
   "source": [
    "stat, p = ttest_ind(sum_int_smart, sum_int_ultra)"
   ]
  },
  {
   "cell_type": "code",
   "execution_count": 82,
   "metadata": {},
   "outputs": [
    {
     "name": "stdout",
     "output_type": "stream",
     "text": [
      "t = -45.052927473020496\n",
      "p-value = 0.0\n"
     ]
    }
   ],
   "source": [
    "print('t =', stat)\n",
    "print('p-value =', p)"
   ]
  },
  {
   "cell_type": "markdown",
   "metadata": {},
   "source": [
    "**4.3 Вывод**"
   ]
  },
  {
   "cell_type": "markdown",
   "metadata": {},
   "source": [
    "Нулевыю гипотезу отвергаем\n",
    "\n",
    "Пользователи тарифа ultra в среднем приносят больше денег из-за стоимости абонентской платы. Клиенты тарифа smart в 75% процентов случаев дозаказывают все виды услуг, однако даже не смотря на этот факт менее прибыльны"
   ]
  },
  {
   "cell_type": "markdown",
   "metadata": {},
   "source": [
    "**4.4 Определим среднемесячную выручку по Москве и по остальным регионам:**"
   ]
  },
  {
   "cell_type": "markdown",
   "metadata": {},
   "source": [
    "**H0** - средняя выручка жителей Москвы отличается от жителей других регионов\n",
    "\n",
    "**H1** - средняя выручка жителей Москвы не отличается от жителей других регионов"
   ]
  },
  {
   "cell_type": "markdown",
   "metadata": {},
   "source": [
    "Напишем небольшую функцию для фильрации по городу Москве. добавим новый столбец:"
   ]
  },
  {
   "cell_type": "code",
   "execution_count": 83,
   "metadata": {},
   "outputs": [],
   "source": [
    "def region(row):\n",
    "    if row['Город'] == 'Москва':\n",
    "        return 'город Москва'\n",
    "    else:\n",
    "        return 'остальные регионы'\n",
    "\n",
    "full_df['Регионы'] = full_df.apply(region, axis = 1)        "
   ]
  },
  {
   "cell_type": "code",
   "execution_count": 84,
   "metadata": {},
   "outputs": [
    {
     "data": {
      "text/html": [
       "<div>\n",
       "<style scoped>\n",
       "    .dataframe tbody tr th:only-of-type {\n",
       "        vertical-align: middle;\n",
       "    }\n",
       "\n",
       "    .dataframe tbody tr th {\n",
       "        vertical-align: top;\n",
       "    }\n",
       "\n",
       "    .dataframe thead th {\n",
       "        text-align: right;\n",
       "    }\n",
       "</style>\n",
       "<table border=\"1\" class=\"dataframe\">\n",
       "  <thead>\n",
       "    <tr style=\"text-align: right;\">\n",
       "      <th></th>\n",
       "      <th>User_id</th>\n",
       "      <th>Месяц</th>\n",
       "      <th>Кол-во звонков, шт.</th>\n",
       "      <th>Звонки, мин.</th>\n",
       "      <th>СМС, шт.</th>\n",
       "      <th>Интернет, Мб</th>\n",
       "      <th>Тариф</th>\n",
       "      <th>Город</th>\n",
       "      <th>Аб. плата, руб.</th>\n",
       "      <th>Минуты сверх</th>\n",
       "      <th>СМС сверх</th>\n",
       "      <th>Мб сверх</th>\n",
       "      <th>Доплата, руб.</th>\n",
       "      <th>Итоговая сумма, руб.</th>\n",
       "      <th>Регионы</th>\n",
       "    </tr>\n",
       "  </thead>\n",
       "  <tbody>\n",
       "    <tr>\n",
       "      <td>0</td>\n",
       "      <td>1000</td>\n",
       "      <td>5</td>\n",
       "      <td>17</td>\n",
       "      <td>159.0</td>\n",
       "      <td>22</td>\n",
       "      <td>2256.0</td>\n",
       "      <td>ultra</td>\n",
       "      <td>Краснодар</td>\n",
       "      <td>1950</td>\n",
       "      <td>0.0</td>\n",
       "      <td>0</td>\n",
       "      <td>0.0</td>\n",
       "      <td>0</td>\n",
       "      <td>1950</td>\n",
       "      <td>остальные регионы</td>\n",
       "    </tr>\n",
       "    <tr>\n",
       "      <td>1</td>\n",
       "      <td>1000</td>\n",
       "      <td>6</td>\n",
       "      <td>28</td>\n",
       "      <td>172.0</td>\n",
       "      <td>60</td>\n",
       "      <td>23257.0</td>\n",
       "      <td>ultra</td>\n",
       "      <td>Краснодар</td>\n",
       "      <td>1950</td>\n",
       "      <td>0.0</td>\n",
       "      <td>0</td>\n",
       "      <td>0.0</td>\n",
       "      <td>0</td>\n",
       "      <td>1950</td>\n",
       "      <td>остальные регионы</td>\n",
       "    </tr>\n",
       "    <tr>\n",
       "      <td>2</td>\n",
       "      <td>1000</td>\n",
       "      <td>7</td>\n",
       "      <td>41</td>\n",
       "      <td>340.0</td>\n",
       "      <td>75</td>\n",
       "      <td>14016.0</td>\n",
       "      <td>ultra</td>\n",
       "      <td>Краснодар</td>\n",
       "      <td>1950</td>\n",
       "      <td>0.0</td>\n",
       "      <td>0</td>\n",
       "      <td>0.0</td>\n",
       "      <td>0</td>\n",
       "      <td>1950</td>\n",
       "      <td>остальные регионы</td>\n",
       "    </tr>\n",
       "    <tr>\n",
       "      <td>3</td>\n",
       "      <td>1000</td>\n",
       "      <td>8</td>\n",
       "      <td>42</td>\n",
       "      <td>408.0</td>\n",
       "      <td>81</td>\n",
       "      <td>14070.0</td>\n",
       "      <td>ultra</td>\n",
       "      <td>Краснодар</td>\n",
       "      <td>1950</td>\n",
       "      <td>0.0</td>\n",
       "      <td>0</td>\n",
       "      <td>0.0</td>\n",
       "      <td>0</td>\n",
       "      <td>1950</td>\n",
       "      <td>остальные регионы</td>\n",
       "    </tr>\n",
       "    <tr>\n",
       "      <td>4</td>\n",
       "      <td>1000</td>\n",
       "      <td>9</td>\n",
       "      <td>46</td>\n",
       "      <td>466.0</td>\n",
       "      <td>57</td>\n",
       "      <td>14581.0</td>\n",
       "      <td>ultra</td>\n",
       "      <td>Краснодар</td>\n",
       "      <td>1950</td>\n",
       "      <td>0.0</td>\n",
       "      <td>0</td>\n",
       "      <td>0.0</td>\n",
       "      <td>0</td>\n",
       "      <td>1950</td>\n",
       "      <td>остальные регионы</td>\n",
       "    </tr>\n",
       "    <tr>\n",
       "      <td>5</td>\n",
       "      <td>1000</td>\n",
       "      <td>10</td>\n",
       "      <td>44</td>\n",
       "      <td>350.0</td>\n",
       "      <td>73</td>\n",
       "      <td>14717.0</td>\n",
       "      <td>ultra</td>\n",
       "      <td>Краснодар</td>\n",
       "      <td>1950</td>\n",
       "      <td>0.0</td>\n",
       "      <td>0</td>\n",
       "      <td>0.0</td>\n",
       "      <td>0</td>\n",
       "      <td>1950</td>\n",
       "      <td>остальные регионы</td>\n",
       "    </tr>\n",
       "    <tr>\n",
       "      <td>6</td>\n",
       "      <td>1000</td>\n",
       "      <td>11</td>\n",
       "      <td>37</td>\n",
       "      <td>338.0</td>\n",
       "      <td>58</td>\n",
       "      <td>14768.0</td>\n",
       "      <td>ultra</td>\n",
       "      <td>Краснодар</td>\n",
       "      <td>1950</td>\n",
       "      <td>0.0</td>\n",
       "      <td>0</td>\n",
       "      <td>0.0</td>\n",
       "      <td>0</td>\n",
       "      <td>1950</td>\n",
       "      <td>остальные регионы</td>\n",
       "    </tr>\n",
       "    <tr>\n",
       "      <td>7</td>\n",
       "      <td>1000</td>\n",
       "      <td>12</td>\n",
       "      <td>38</td>\n",
       "      <td>333.0</td>\n",
       "      <td>70</td>\n",
       "      <td>9827.0</td>\n",
       "      <td>ultra</td>\n",
       "      <td>Краснодар</td>\n",
       "      <td>1950</td>\n",
       "      <td>0.0</td>\n",
       "      <td>0</td>\n",
       "      <td>0.0</td>\n",
       "      <td>0</td>\n",
       "      <td>1950</td>\n",
       "      <td>остальные регионы</td>\n",
       "    </tr>\n",
       "    <tr>\n",
       "      <td>8</td>\n",
       "      <td>1001</td>\n",
       "      <td>11</td>\n",
       "      <td>45</td>\n",
       "      <td>430.0</td>\n",
       "      <td>0</td>\n",
       "      <td>18452.0</td>\n",
       "      <td>smart</td>\n",
       "      <td>Москва</td>\n",
       "      <td>550</td>\n",
       "      <td>0.0</td>\n",
       "      <td>0</td>\n",
       "      <td>3092.0</td>\n",
       "      <td>604</td>\n",
       "      <td>1154</td>\n",
       "      <td>город Москва</td>\n",
       "    </tr>\n",
       "    <tr>\n",
       "      <td>9</td>\n",
       "      <td>1001</td>\n",
       "      <td>12</td>\n",
       "      <td>47</td>\n",
       "      <td>414.0</td>\n",
       "      <td>0</td>\n",
       "      <td>14053.0</td>\n",
       "      <td>smart</td>\n",
       "      <td>Москва</td>\n",
       "      <td>550</td>\n",
       "      <td>0.0</td>\n",
       "      <td>0</td>\n",
       "      <td>0.0</td>\n",
       "      <td>0</td>\n",
       "      <td>550</td>\n",
       "      <td>город Москва</td>\n",
       "    </tr>\n",
       "  </tbody>\n",
       "</table>\n",
       "</div>"
      ],
      "text/plain": [
       "   User_id  Месяц  Кол-во звонков, шт.  Звонки, мин.  СМС, шт.  Интернет, Мб  \\\n",
       "0     1000      5                   17         159.0        22        2256.0   \n",
       "1     1000      6                   28         172.0        60       23257.0   \n",
       "2     1000      7                   41         340.0        75       14016.0   \n",
       "3     1000      8                   42         408.0        81       14070.0   \n",
       "4     1000      9                   46         466.0        57       14581.0   \n",
       "5     1000     10                   44         350.0        73       14717.0   \n",
       "6     1000     11                   37         338.0        58       14768.0   \n",
       "7     1000     12                   38         333.0        70        9827.0   \n",
       "8     1001     11                   45         430.0         0       18452.0   \n",
       "9     1001     12                   47         414.0         0       14053.0   \n",
       "\n",
       "   Тариф      Город  Аб. плата, руб.  Минуты сверх  СМС сверх  Мб сверх  \\\n",
       "0  ultra  Краснодар             1950           0.0          0       0.0   \n",
       "1  ultra  Краснодар             1950           0.0          0       0.0   \n",
       "2  ultra  Краснодар             1950           0.0          0       0.0   \n",
       "3  ultra  Краснодар             1950           0.0          0       0.0   \n",
       "4  ultra  Краснодар             1950           0.0          0       0.0   \n",
       "5  ultra  Краснодар             1950           0.0          0       0.0   \n",
       "6  ultra  Краснодар             1950           0.0          0       0.0   \n",
       "7  ultra  Краснодар             1950           0.0          0       0.0   \n",
       "8  smart     Москва              550           0.0          0    3092.0   \n",
       "9  smart     Москва              550           0.0          0       0.0   \n",
       "\n",
       "   Доплата, руб.  Итоговая сумма, руб.            Регионы  \n",
       "0              0                  1950  остальные регионы  \n",
       "1              0                  1950  остальные регионы  \n",
       "2              0                  1950  остальные регионы  \n",
       "3              0                  1950  остальные регионы  \n",
       "4              0                  1950  остальные регионы  \n",
       "5              0                  1950  остальные регионы  \n",
       "6              0                  1950  остальные регионы  \n",
       "7              0                  1950  остальные регионы  \n",
       "8            604                  1154       город Москва  \n",
       "9              0                   550       город Москва  "
      ]
     },
     "execution_count": 84,
     "metadata": {},
     "output_type": "execute_result"
    }
   ],
   "source": [
    "full_df.head(10) #посмотрим"
   ]
  },
  {
   "cell_type": "markdown",
   "metadata": {},
   "source": [
    "Построим boxplot'ы для определения выбросов:"
   ]
  },
  {
   "cell_type": "code",
   "execution_count": 85,
   "metadata": {},
   "outputs": [
    {
     "data": {
      "image/png": "[encoded data removed]",
      "text/plain": [
       "<Figure size 1800x900 with 1 Axes>"
      ]
     },
     "metadata": {
      "needs_background": "light"
     },
     "output_type": "display_data"
    }
   ],
   "source": [
    "\n",
    "full_df.boxplot(column ='Итоговая сумма, руб.', by='Регионы', figsize = (25,12.5));"
   ]
  },
  {
   "cell_type": "markdown",
   "metadata": {},
   "source": [
    "Найдем интервалы:"
   ]
  },
  {
   "cell_type": "markdown",
   "metadata": {},
   "source": [
    "Немного видоизменим функцию intervals:"
   ]
  },
  {
   "cell_type": "code",
   "execution_count": 86,
   "metadata": {},
   "outputs": [],
   "source": [
    "def msk_intervals(column, data_filter):\n",
    "    format_name = 'Регионы'\n",
    "    data1, data2 = 'остальные регионы', 'город Москва'\n",
    "    format_end1 = 'для регионов'\n",
    "    format_end2 = 'для Москвы'\n",
    "    \n",
    "    q1_1 = full_df[full_df[data_filter] == data1][column].quantile(0.25)\n",
    "    q3_1 = full_df[full_df[data_filter] == data1][column].quantile(0.75)\n",
    "    diff_1 = q3_1 - q1_1\n",
    "    \n",
    "    left_int_1 = np.where((q1_1 - 1.5 * diff_1) > 550, q1_1 - 1.5 * diff_1, 550)\n",
    "    right_int_1 = np.where((q3_1 + 1.5 * diff_1) > 0, q3_1 + 1.5 * diff_1, 0)\n",
    "    \n",
    "    q1_2 = full_df[full_df[data_filter] == data2][column].quantile(0.25)\n",
    "    q3_2 = full_df[full_df[data_filter] == data2][column].quantile(0.75)\n",
    "    diff_2 = q3_2 - q1_2\n",
    "    \n",
    "    left_int_2 = np.where((q1_2 - 1.5 * diff_2) > 550, q1_2 - 1.5 * diff_2, 550)\n",
    "    right_int_2 = np.where((q3_2 + 1.5 * diff_2) > 0, q3_2 + 1.5 * diff_2, 0)\n",
    "    \n",
    "    print('Интервала для столбца \"{}\" {}: {} - {}'.format(column, format_end1, left_int_1, right_int_1))\n",
    "    print('Интервала для столбца \"{}\" {}: {} - {}'.format(column, format_end2, left_int_2, right_int_2))\n",
    "    \n",
    "    return (left_int_1, right_int_1), (left_int_2, right_int_2)\n",
    "    "
   ]
  },
  {
   "cell_type": "code",
   "execution_count": 87,
   "metadata": {},
   "outputs": [
    {
     "name": "stdout",
     "output_type": "stream",
     "text": [
      "Интервала для столбца \"Итоговая сумма, руб.\" для регионов: 550.0 - 4050.0\n",
      "Интервала для столбца \"Итоговая сумма, руб.\" для Москвы: 550.0 - 4050.0\n"
     ]
    }
   ],
   "source": [
    "sum_int_smart, sum_int_ultra = msk_intervals('Итоговая сумма, руб.','Регионы');"
   ]
  },
  {
   "cell_type": "markdown",
   "metadata": {},
   "source": [
    "Найдем среднемесячную выручку по Москве и регионам:"
   ]
  },
  {
   "cell_type": "code",
   "execution_count": 88,
   "metadata": {},
   "outputs": [],
   "source": [
    "sum_moscow = full_df[(full_df['Город'] == 'Москва') &\n",
    "                                      (full_df['Итоговая сумма, руб.'] >= sum_int_smart[0]) &\n",
    "                                      (full_df['Итоговая сумма, руб.'] <= sum_int_smart[1])]['Итоговая сумма, руб.']\n",
    "sum_region = full_df[(full_df['Город'] != 'Москва') &\n",
    "                                      (full_df['Итоговая сумма, руб.'] >= sum_int_ultra[0]) &\n",
    "                                      (full_df['Итоговая сумма, руб.'] <= sum_int_ultra[1])]['Итоговая сумма, руб.']"
   ]
  },
  {
   "cell_type": "code",
   "execution_count": 89,
   "metadata": {},
   "outputs": [
    {
     "name": "stdout",
     "output_type": "stream",
     "text": [
      "Средняя выручка по пользователям в месяц в Москва: 1420.27\n",
      "Средняя выручка по пользователям в месяц в регионах: 1367.57\n"
     ]
    }
   ],
   "source": [
    "print('Средняя выручка по пользователям в месяц в Москва: {:.2f}'.format(sum_moscow.mean()))\n",
    "print('Средняя выручка по пользователям в месяц в регионах: {:.2f}'.format(sum_region.mean()))"
   ]
  },
  {
   "cell_type": "markdown",
   "metadata": {},
   "source": [
    "В среднем за месяц в Москве тратят на 53р больше"
   ]
  },
  {
   "cell_type": "markdown",
   "metadata": {},
   "source": [
    "**4.4 Расчёт p-value**"
   ]
  },
  {
   "cell_type": "code",
   "execution_count": 90,
   "metadata": {},
   "outputs": [],
   "source": [
    "stat, p = ttest_ind(sum_moscow, sum_region)"
   ]
  },
  {
   "cell_type": "markdown",
   "metadata": {},
   "source": [
    "Пороговое значение alpha = 0.05"
   ]
  },
  {
   "cell_type": "code",
   "execution_count": 91,
   "metadata": {},
   "outputs": [
    {
     "name": "stdout",
     "output_type": "stream",
     "text": [
      "t = 1.5797264724901234\n",
      "p-value = 0.11426832368050525\n"
     ]
    }
   ],
   "source": [
    "print('t =', stat)\n",
    "print('p-value =', p)"
   ]
  },
  {
   "cell_type": "markdown",
   "metadata": {},
   "source": [
    "**4.5 Вывод** "
   ]
  },
  {
   "cell_type": "markdown",
   "metadata": {},
   "source": [
    "Мы не можем опровергнуть нулевую гипотезу: средняя выручка жителей Москвы не отличается от выручки жителей других регионов. Видно, что в среднем в Москве платят на 50р больше. Данный разрыв не является статистически значимым\n",
    "\n"
   ]
  },
  {
   "cell_type": "markdown",
   "metadata": {},
   "source": [
    "**5 Общий вывод**"
   ]
  },
  {
   "cell_type": "markdown",
   "metadata": {},
   "source": [
    "Тариф \"smart\" приносит 55% прибыли компании \"Мегалайн\". Данный процент генерируют порядка 2200 пользователей. В среднем пользователям не хватает 2 ГБ интернета и они вынуждены доплачивать за траффик порядка 400 рублей.(Переплачивают порядка 60%) 15 Гб явно не хватает клиентам. На этом тарифе пользователи в среднем практически выбирают лимит по звонкам: 420 минут из 500. Дозаказывают же каждый из видов услуг.\n",
    "\n",
    "Тариф \"ultra\" приносит 45% прибыли, но пользователей в 2 раза меньше: 1000 человек. Тариф комфортный и дорогой. Иногда  дозаказывают только интернет (1Гб - 150р). Лимитов по всем типам связи хватает.\n",
    "\n",
    "Можно сделать вывод, что компании \"Мегалайн\" нужно проработать создание тарифа промежуточного. Данные по переплатам тарифа smart показывают, что клиент готов платить более чем 550р в месяц практически в два раза. Допустим это будет тариф с абонентской платой в 1000 р в месяц с лимитом траффика 20-25 Гб\n",
    "\n"
   ]
  },
  {
   "cell_type": "code",
   "execution_count": null,
   "metadata": {},
   "outputs": [],
   "source": []
  }
 ],
 "metadata": {
  "ExecuteTimeLog": [
   {
    "duration": 698,
    "start_time": "2021-11-12T07:37:44.992Z"
   },
   {
    "duration": 423,
    "start_time": "2021-11-12T07:37:45.692Z"
   },
   {
    "duration": 14,
    "start_time": "2021-11-12T07:37:46.117Z"
   },
   {
    "duration": 8,
    "start_time": "2021-11-12T07:37:46.133Z"
   },
   {
    "duration": 5,
    "start_time": "2021-11-12T07:37:46.143Z"
   },
   {
    "duration": 14,
    "start_time": "2021-11-12T07:37:46.149Z"
   },
   {
    "duration": 13,
    "start_time": "2021-11-12T07:37:46.165Z"
   },
   {
    "duration": 12,
    "start_time": "2021-11-12T07:37:46.181Z"
   },
   {
    "duration": 21,
    "start_time": "2021-11-12T07:37:46.195Z"
   },
   {
    "duration": 133,
    "start_time": "2021-11-12T07:37:46.218Z"
   },
   {
    "duration": 786,
    "start_time": "2021-11-12T07:37:46.353Z"
   },
   {
    "duration": 319,
    "start_time": "2021-11-12T07:37:47.141Z"
   },
   {
    "duration": 28,
    "start_time": "2021-11-12T07:37:47.463Z"
   },
   {
    "duration": 375,
    "start_time": "2021-11-12T07:37:47.493Z"
   },
   {
    "duration": 10,
    "start_time": "2021-11-12T07:37:47.870Z"
   },
   {
    "duration": 22,
    "start_time": "2021-11-12T07:37:47.882Z"
   },
   {
    "duration": 59,
    "start_time": "2021-11-12T07:37:47.906Z"
   },
   {
    "duration": 486,
    "start_time": "2021-11-12T07:37:47.967Z"
   },
   {
    "duration": 13,
    "start_time": "2021-11-12T07:37:48.455Z"
   },
   {
    "duration": 21,
    "start_time": "2021-11-12T07:37:48.469Z"
   },
   {
    "duration": 78,
    "start_time": "2021-11-12T07:37:48.492Z"
   },
   {
    "duration": 624,
    "start_time": "2021-11-12T07:37:48.571Z"
   },
   {
    "duration": 299,
    "start_time": "2021-11-12T07:37:49.199Z"
   },
   {
    "duration": 22,
    "start_time": "2021-11-12T07:37:49.501Z"
   },
   {
    "duration": 305,
    "start_time": "2021-11-12T07:37:49.525Z"
   },
   {
    "duration": 9,
    "start_time": "2021-11-12T07:37:49.832Z"
   },
   {
    "duration": 24,
    "start_time": "2021-11-12T07:37:49.842Z"
   },
   {
    "duration": 4,
    "start_time": "2021-11-12T07:37:49.868Z"
   },
   {
    "duration": 345,
    "start_time": "2021-11-12T07:37:49.874Z"
   },
   {
    "duration": 62,
    "start_time": "2021-11-12T07:37:50.221Z"
   },
   {
    "duration": 32,
    "start_time": "2021-11-12T07:37:50.284Z"
   },
   {
    "duration": 14,
    "start_time": "2021-11-12T07:37:50.318Z"
   },
   {
    "duration": 7,
    "start_time": "2021-11-12T07:37:50.334Z"
   },
   {
    "duration": 30,
    "start_time": "2021-11-12T07:37:50.343Z"
   },
   {
    "duration": 11,
    "start_time": "2021-11-12T07:37:50.375Z"
   },
   {
    "duration": 12,
    "start_time": "2021-11-12T07:37:50.388Z"
   },
   {
    "duration": 13,
    "start_time": "2021-11-12T07:37:50.402Z"
   },
   {
    "duration": 185,
    "start_time": "2021-11-12T07:37:50.417Z"
   },
   {
    "duration": 4,
    "start_time": "2021-11-12T07:37:50.603Z"
   },
   {
    "duration": 20,
    "start_time": "2021-11-12T07:37:50.608Z"
   },
   {
    "duration": 23,
    "start_time": "2021-11-12T07:37:50.630Z"
   },
   {
    "duration": 24,
    "start_time": "2021-11-12T07:37:50.655Z"
   },
   {
    "duration": 19,
    "start_time": "2021-11-12T07:37:50.681Z"
   },
   {
    "duration": 16,
    "start_time": "2021-11-12T07:37:50.702Z"
   },
   {
    "duration": 23,
    "start_time": "2021-11-12T07:37:50.720Z"
   },
   {
    "duration": 72,
    "start_time": "2021-11-12T07:37:50.745Z"
   },
   {
    "duration": 3,
    "start_time": "2021-11-12T07:37:50.819Z"
   },
   {
    "duration": 75,
    "start_time": "2021-11-12T07:37:50.824Z"
   },
   {
    "duration": 4,
    "start_time": "2021-11-12T07:37:50.900Z"
   },
   {
    "duration": 75,
    "start_time": "2021-11-12T07:37:50.905Z"
   },
   {
    "duration": 4,
    "start_time": "2021-11-12T07:37:50.982Z"
   },
   {
    "duration": 126,
    "start_time": "2021-11-12T07:37:50.987Z"
   },
   {
    "duration": 7,
    "start_time": "2021-11-12T07:37:51.115Z"
   },
   {
    "duration": 17,
    "start_time": "2021-11-12T07:37:51.124Z"
   },
   {
    "duration": 31,
    "start_time": "2021-11-12T07:37:51.143Z"
   },
   {
    "duration": 26,
    "start_time": "2021-11-12T07:37:51.175Z"
   },
   {
    "duration": 287,
    "start_time": "2021-11-12T07:37:51.203Z"
   },
   {
    "duration": 295,
    "start_time": "2021-11-12T07:37:51.492Z"
   },
   {
    "duration": 284,
    "start_time": "2021-11-12T07:37:51.789Z"
   },
   {
    "duration": 286,
    "start_time": "2021-11-12T07:37:52.075Z"
   },
   {
    "duration": 12,
    "start_time": "2021-11-12T07:37:52.363Z"
   },
   {
    "duration": 10,
    "start_time": "2021-11-12T07:37:52.377Z"
   },
   {
    "duration": 469,
    "start_time": "2021-11-12T07:37:52.389Z"
   },
   {
    "duration": 469,
    "start_time": "2021-11-12T07:37:52.860Z"
   },
   {
    "duration": 561,
    "start_time": "2021-11-12T07:37:53.331Z"
   },
   {
    "duration": 6,
    "start_time": "2021-11-12T07:37:53.894Z"
   },
   {
    "duration": 17,
    "start_time": "2021-11-12T07:37:53.901Z"
   },
   {
    "duration": 11,
    "start_time": "2021-11-12T07:37:53.924Z"
   },
   {
    "duration": 27,
    "start_time": "2021-11-12T07:37:53.938Z"
   },
   {
    "duration": 12,
    "start_time": "2021-11-12T07:37:53.967Z"
   },
   {
    "duration": 614,
    "start_time": "2021-11-12T07:37:53.981Z"
   },
   {
    "duration": 10,
    "start_time": "2021-11-12T07:37:54.597Z"
   },
   {
    "duration": 571,
    "start_time": "2021-11-12T07:37:54.609Z"
   },
   {
    "duration": 11,
    "start_time": "2021-11-12T07:37:55.182Z"
   },
   {
    "duration": 603,
    "start_time": "2021-11-12T07:37:55.196Z"
   },
   {
    "duration": 496,
    "start_time": "2021-11-12T07:37:55.801Z"
   },
   {
    "duration": 14,
    "start_time": "2021-11-12T07:37:56.299Z"
   },
   {
    "duration": 11,
    "start_time": "2021-11-12T07:37:56.314Z"
   },
   {
    "duration": 6,
    "start_time": "2021-11-12T07:37:56.327Z"
   },
   {
    "duration": 457,
    "start_time": "2021-11-12T07:37:56.335Z"
   },
   {
    "duration": 5,
    "start_time": "2021-11-12T07:37:56.794Z"
   },
   {
    "duration": 5,
    "start_time": "2021-11-12T07:37:56.801Z"
   },
   {
    "duration": 58,
    "start_time": "2021-11-12T07:37:56.808Z"
   },
   {
    "duration": 17,
    "start_time": "2021-11-12T07:37:56.868Z"
   },
   {
    "duration": 463,
    "start_time": "2021-11-12T07:37:56.887Z"
   },
   {
    "duration": 11,
    "start_time": "2021-11-12T07:37:57.352Z"
   },
   {
    "duration": 12,
    "start_time": "2021-11-12T07:37:57.365Z"
   },
   {
    "duration": 10,
    "start_time": "2021-11-12T07:37:57.379Z"
   },
   {
    "duration": 5,
    "start_time": "2021-11-12T07:37:57.391Z"
   },
   {
    "duration": 7,
    "start_time": "2021-11-12T07:37:57.398Z"
   },
   {
    "duration": 5,
    "start_time": "2021-11-12T07:37:57.407Z"
   },
   {
    "duration": 7021,
    "start_time": "2021-11-12T07:41:29.268Z"
   },
   {
    "duration": 793,
    "start_time": "2021-11-12T07:41:55.245Z"
   },
   {
    "duration": 476,
    "start_time": "2021-11-12T07:41:56.040Z"
   },
   {
    "duration": 16,
    "start_time": "2021-11-12T07:41:56.519Z"
   },
   {
    "duration": 8,
    "start_time": "2021-11-12T07:41:56.538Z"
   },
   {
    "duration": 15,
    "start_time": "2021-11-12T07:41:56.548Z"
   },
   {
    "duration": 11,
    "start_time": "2021-11-12T07:41:56.566Z"
   },
   {
    "duration": 18,
    "start_time": "2021-11-12T07:41:56.580Z"
   },
   {
    "duration": 9,
    "start_time": "2021-11-12T07:41:56.601Z"
   },
   {
    "duration": 22,
    "start_time": "2021-11-12T07:41:56.613Z"
   },
   {
    "duration": 137,
    "start_time": "2021-11-12T07:41:56.664Z"
   },
   {
    "duration": 792,
    "start_time": "2021-11-12T07:41:56.803Z"
   },
   {
    "duration": 335,
    "start_time": "2021-11-12T07:41:57.597Z"
   },
   {
    "duration": 33,
    "start_time": "2021-11-12T07:41:57.934Z"
   },
   {
    "duration": 383,
    "start_time": "2021-11-12T07:41:57.968Z"
   },
   {
    "duration": 16,
    "start_time": "2021-11-12T07:41:58.353Z"
   },
   {
    "duration": 18,
    "start_time": "2021-11-12T07:41:58.371Z"
   },
   {
    "duration": 49,
    "start_time": "2021-11-12T07:41:58.391Z"
   },
   {
    "duration": 481,
    "start_time": "2021-11-12T07:41:58.442Z"
   },
   {
    "duration": 9,
    "start_time": "2021-11-12T07:41:58.925Z"
   },
   {
    "duration": 32,
    "start_time": "2021-11-12T07:41:58.936Z"
   },
   {
    "duration": 68,
    "start_time": "2021-11-12T07:41:58.970Z"
   },
   {
    "duration": 633,
    "start_time": "2021-11-12T07:41:59.040Z"
   },
   {
    "duration": 315,
    "start_time": "2021-11-12T07:41:59.678Z"
   },
   {
    "duration": 25,
    "start_time": "2021-11-12T07:41:59.995Z"
   },
   {
    "duration": 338,
    "start_time": "2021-11-12T07:42:00.022Z"
   },
   {
    "duration": 8,
    "start_time": "2021-11-12T07:42:00.363Z"
   },
   {
    "duration": 21,
    "start_time": "2021-11-12T07:42:00.373Z"
   },
   {
    "duration": 5,
    "start_time": "2021-11-12T07:42:00.396Z"
   },
   {
    "duration": 376,
    "start_time": "2021-11-12T07:42:00.403Z"
   },
   {
    "duration": 56,
    "start_time": "2021-11-12T07:42:00.781Z"
   },
   {
    "duration": 51,
    "start_time": "2021-11-12T07:42:00.839Z"
   },
   {
    "duration": 15,
    "start_time": "2021-11-12T07:42:00.892Z"
   },
   {
    "duration": 20,
    "start_time": "2021-11-12T07:42:00.909Z"
   },
   {
    "duration": 32,
    "start_time": "2021-11-12T07:42:00.931Z"
   },
   {
    "duration": 20,
    "start_time": "2021-11-12T07:42:00.965Z"
   },
   {
    "duration": 31,
    "start_time": "2021-11-12T07:42:00.987Z"
   },
   {
    "duration": 22,
    "start_time": "2021-11-12T07:42:01.020Z"
   },
   {
    "duration": 180,
    "start_time": "2021-11-12T07:42:01.044Z"
   },
   {
    "duration": 4,
    "start_time": "2021-11-12T07:42:01.226Z"
   },
   {
    "duration": 18,
    "start_time": "2021-11-12T07:42:01.232Z"
   },
   {
    "duration": 10,
    "start_time": "2021-11-12T07:42:01.264Z"
   },
   {
    "duration": 16,
    "start_time": "2021-11-12T07:42:01.276Z"
   },
   {
    "duration": 14,
    "start_time": "2021-11-12T07:42:01.294Z"
   },
   {
    "duration": 17,
    "start_time": "2021-11-12T07:42:01.310Z"
   },
   {
    "duration": 19,
    "start_time": "2021-11-12T07:42:01.329Z"
   },
   {
    "duration": 78,
    "start_time": "2021-11-12T07:42:01.350Z"
   },
   {
    "duration": 4,
    "start_time": "2021-11-12T07:42:01.430Z"
   },
   {
    "duration": 69,
    "start_time": "2021-11-12T07:42:01.436Z"
   },
   {
    "duration": 4,
    "start_time": "2021-11-12T07:42:01.507Z"
   },
   {
    "duration": 92,
    "start_time": "2021-11-12T07:42:01.513Z"
   },
   {
    "duration": 5,
    "start_time": "2021-11-12T07:42:01.607Z"
   },
   {
    "duration": 135,
    "start_time": "2021-11-12T07:42:01.614Z"
   },
   {
    "duration": 15,
    "start_time": "2021-11-12T07:42:01.751Z"
   },
   {
    "duration": 30,
    "start_time": "2021-11-12T07:42:01.768Z"
   },
   {
    "duration": 20,
    "start_time": "2021-11-12T07:42:01.801Z"
   },
   {
    "duration": 28,
    "start_time": "2021-11-12T07:42:01.823Z"
   },
   {
    "duration": 294,
    "start_time": "2021-11-12T07:42:01.853Z"
   },
   {
    "duration": 301,
    "start_time": "2021-11-12T07:42:02.149Z"
   },
   {
    "duration": 304,
    "start_time": "2021-11-12T07:42:02.452Z"
   },
   {
    "duration": 294,
    "start_time": "2021-11-12T07:42:02.758Z"
   },
   {
    "duration": 17,
    "start_time": "2021-11-12T07:42:03.054Z"
   },
   {
    "duration": 13,
    "start_time": "2021-11-12T07:42:03.073Z"
   },
   {
    "duration": 584,
    "start_time": "2021-11-12T07:42:03.088Z"
   },
   {
    "duration": 467,
    "start_time": "2021-11-12T07:42:03.674Z"
   },
   {
    "duration": 562,
    "start_time": "2021-11-12T07:42:04.143Z"
   },
   {
    "duration": 6,
    "start_time": "2021-11-12T07:42:04.707Z"
   },
   {
    "duration": 19,
    "start_time": "2021-11-12T07:42:04.715Z"
   },
   {
    "duration": 30,
    "start_time": "2021-11-12T07:42:04.739Z"
   },
   {
    "duration": 12,
    "start_time": "2021-11-12T07:42:04.772Z"
   },
   {
    "duration": 14,
    "start_time": "2021-11-12T07:42:04.786Z"
   },
   {
    "duration": 624,
    "start_time": "2021-11-12T07:42:04.803Z"
   },
   {
    "duration": 10,
    "start_time": "2021-11-12T07:42:05.430Z"
   },
   {
    "duration": 593,
    "start_time": "2021-11-12T07:42:05.442Z"
   },
   {
    "duration": 11,
    "start_time": "2021-11-12T07:42:06.037Z"
   },
   {
    "duration": 607,
    "start_time": "2021-11-12T07:42:06.063Z"
   },
   {
    "duration": 465,
    "start_time": "2021-11-12T07:42:06.672Z"
   },
   {
    "duration": 25,
    "start_time": "2021-11-12T07:42:07.138Z"
   },
   {
    "duration": 11,
    "start_time": "2021-11-12T07:42:07.165Z"
   },
   {
    "duration": 5,
    "start_time": "2021-11-12T07:42:07.178Z"
   },
   {
    "duration": 430,
    "start_time": "2021-11-12T07:42:07.185Z"
   },
   {
    "duration": 4,
    "start_time": "2021-11-12T07:42:07.617Z"
   },
   {
    "duration": 6,
    "start_time": "2021-11-12T07:42:07.623Z"
   },
   {
    "duration": 48,
    "start_time": "2021-11-12T07:42:07.631Z"
   },
   {
    "duration": 15,
    "start_time": "2021-11-12T07:42:07.681Z"
   },
   {
    "duration": 476,
    "start_time": "2021-11-12T07:42:07.698Z"
   },
   {
    "duration": 7,
    "start_time": "2021-11-12T07:42:08.176Z"
   },
   {
    "duration": 18,
    "start_time": "2021-11-12T07:42:08.184Z"
   },
   {
    "duration": 9,
    "start_time": "2021-11-12T07:42:08.203Z"
   },
   {
    "duration": 4,
    "start_time": "2021-11-12T07:42:08.214Z"
   },
   {
    "duration": 17,
    "start_time": "2021-11-12T07:42:08.220Z"
   },
   {
    "duration": 10,
    "start_time": "2021-11-12T07:42:08.239Z"
   }
  ],
  "kernelspec": {
   "display_name": "Python 3",
   "language": "python",
   "name": "python3"
  },
  "language_info": {
   "codemirror_mode": {
    "name": "ipython",
    "version": 3
   },
   "file_extension": ".py",
   "mimetype": "text/x-python",
   "name": "python",
   "nbconvert_exporter": "python",
   "pygments_lexer": "ipython3",
   "version": "3.7.8"
  },
  "toc": {
   "base_numbering": 1,
   "nav_menu": {},
   "number_sections": true,
   "sideBar": true,
   "skip_h1_title": true,
   "title_cell": "Table of Contents",
   "title_sidebar": "Contents",
   "toc_cell": false,
   "toc_position": {},
   "toc_section_display": true,
   "toc_window_display": false
  }
 },
 "nbformat": 4,
 "nbformat_minor": 2
}
